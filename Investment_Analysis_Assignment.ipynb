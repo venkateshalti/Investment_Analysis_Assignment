{
 "cells": [
  {
   "cell_type": "markdown",
   "metadata": {},
   "source": [
    "# ---------------------------Checkpoint 1: Data Cleaning 1----------------------------"
   ]
  },
  {
   "cell_type": "code",
   "execution_count": 5,
   "metadata": {},
   "outputs": [],
   "source": [
    "import pandas as pd#importing pandas package"
   ]
  },
  {
   "cell_type": "code",
   "execution_count": 6,
   "metadata": {},
   "outputs": [],
   "source": [
    "#loading dataframes\n",
    "#companies = pd.read_csv(\"companies.csv\", encoding = \"ISO-8859-1\")\n",
    "#rounds2 = pd.read_csv(\"rounds2.csv\", encoding = \"ISO-8859-1\")\n",
    "#using encoding palmos\n",
    "\n",
    "companies = pd.read_csv(\"companies.csv\", encoding = \"palmos\")\n",
    "rounds2 = pd.read_csv(\"rounds2.csv\", encoding = \"palmos\")"
   ]
  },
  {
   "cell_type": "code",
   "execution_count": 7,
   "metadata": {},
   "outputs": [
    {
     "data": {
      "text/html": [
       "<div>\n",
       "<style scoped>\n",
       "    .dataframe tbody tr th:only-of-type {\n",
       "        vertical-align: middle;\n",
       "    }\n",
       "\n",
       "    .dataframe tbody tr th {\n",
       "        vertical-align: top;\n",
       "    }\n",
       "\n",
       "    .dataframe thead th {\n",
       "        text-align: right;\n",
       "    }\n",
       "</style>\n",
       "<table border=\"1\" class=\"dataframe\">\n",
       "  <thead>\n",
       "    <tr style=\"text-align: right;\">\n",
       "      <th></th>\n",
       "      <th>permalink</th>\n",
       "      <th>name</th>\n",
       "      <th>homepage_url</th>\n",
       "      <th>category_list</th>\n",
       "      <th>status</th>\n",
       "      <th>country_code</th>\n",
       "      <th>state_code</th>\n",
       "      <th>region</th>\n",
       "      <th>city</th>\n",
       "      <th>founded_at</th>\n",
       "    </tr>\n",
       "  </thead>\n",
       "  <tbody>\n",
       "    <tr>\n",
       "      <th>0</th>\n",
       "      <td>/Organization/-Fame</td>\n",
       "      <td>#fame</td>\n",
       "      <td>http://livfame.com</td>\n",
       "      <td>Media</td>\n",
       "      <td>operating</td>\n",
       "      <td>IND</td>\n",
       "      <td>16</td>\n",
       "      <td>Mumbai</td>\n",
       "      <td>Mumbai</td>\n",
       "      <td>NaN</td>\n",
       "    </tr>\n",
       "    <tr>\n",
       "      <th>1</th>\n",
       "      <td>/Organization/-Qounter</td>\n",
       "      <td>:Qounter</td>\n",
       "      <td>http://www.qounter.com</td>\n",
       "      <td>Application Platforms|Real Time|Social Network...</td>\n",
       "      <td>operating</td>\n",
       "      <td>USA</td>\n",
       "      <td>DE</td>\n",
       "      <td>DE - Other</td>\n",
       "      <td>Delaware City</td>\n",
       "      <td>04-09-2014</td>\n",
       "    </tr>\n",
       "    <tr>\n",
       "      <th>2</th>\n",
       "      <td>/Organization/-The-One-Of-Them-Inc-</td>\n",
       "      <td>(THE) ONE of THEM,Inc.</td>\n",
       "      <td>http://oneofthem.jp</td>\n",
       "      <td>Apps|Games|Mobile</td>\n",
       "      <td>operating</td>\n",
       "      <td>NaN</td>\n",
       "      <td>NaN</td>\n",
       "      <td>NaN</td>\n",
       "      <td>NaN</td>\n",
       "      <td>NaN</td>\n",
       "    </tr>\n",
       "    <tr>\n",
       "      <th>3</th>\n",
       "      <td>/Organization/0-6-Com</td>\n",
       "      <td>0-6.com</td>\n",
       "      <td>http://www.0-6.com</td>\n",
       "      <td>Curated Web</td>\n",
       "      <td>operating</td>\n",
       "      <td>CHN</td>\n",
       "      <td>22</td>\n",
       "      <td>Beijing</td>\n",
       "      <td>Beijing</td>\n",
       "      <td>01-01-2007</td>\n",
       "    </tr>\n",
       "    <tr>\n",
       "      <th>4</th>\n",
       "      <td>/Organization/004-Technologies</td>\n",
       "      <td>004 Technologies</td>\n",
       "      <td>http://004gmbh.de/en/004-interact</td>\n",
       "      <td>Software</td>\n",
       "      <td>operating</td>\n",
       "      <td>USA</td>\n",
       "      <td>IL</td>\n",
       "      <td>Springfield, Illinois</td>\n",
       "      <td>Champaign</td>\n",
       "      <td>01-01-2010</td>\n",
       "    </tr>\n",
       "    <tr>\n",
       "      <th>5</th>\n",
       "      <td>/Organization/01Games-Technology</td>\n",
       "      <td>01Games Technology</td>\n",
       "      <td>http://www.01games.hk/</td>\n",
       "      <td>Games</td>\n",
       "      <td>operating</td>\n",
       "      <td>HKG</td>\n",
       "      <td>NaN</td>\n",
       "      <td>Hong Kong</td>\n",
       "      <td>Hong Kong</td>\n",
       "      <td>NaN</td>\n",
       "    </tr>\n",
       "    <tr>\n",
       "      <th>6</th>\n",
       "      <td>/Organization/0Ndine-Biomedical-Inc</td>\n",
       "      <td>Ondine Biomedical Inc.</td>\n",
       "      <td>http://ondinebio.com</td>\n",
       "      <td>Biotechnology</td>\n",
       "      <td>operating</td>\n",
       "      <td>CAN</td>\n",
       "      <td>BC</td>\n",
       "      <td>Vancouver</td>\n",
       "      <td>Vancouver</td>\n",
       "      <td>01-01-1997</td>\n",
       "    </tr>\n",
       "    <tr>\n",
       "      <th>7</th>\n",
       "      <td>/Organization/0Xdata</td>\n",
       "      <td>H2O.ai</td>\n",
       "      <td>http://h2o.ai/</td>\n",
       "      <td>Analytics</td>\n",
       "      <td>operating</td>\n",
       "      <td>USA</td>\n",
       "      <td>CA</td>\n",
       "      <td>SF Bay Area</td>\n",
       "      <td>Mountain View</td>\n",
       "      <td>01-01-2011</td>\n",
       "    </tr>\n",
       "    <tr>\n",
       "      <th>8</th>\n",
       "      <td>/Organization/1</td>\n",
       "      <td>One Inc.</td>\n",
       "      <td>http://whatis1.com</td>\n",
       "      <td>Mobile</td>\n",
       "      <td>operating</td>\n",
       "      <td>USA</td>\n",
       "      <td>CA</td>\n",
       "      <td>SF Bay Area</td>\n",
       "      <td>San Francisco</td>\n",
       "      <td>01-08-2011</td>\n",
       "    </tr>\n",
       "    <tr>\n",
       "      <th>9</th>\n",
       "      <td>/Organization/1-2-3-Listo</td>\n",
       "      <td>1,2,3 Listo</td>\n",
       "      <td>http://www.123listo.com</td>\n",
       "      <td>E-Commerce</td>\n",
       "      <td>operating</td>\n",
       "      <td>CHL</td>\n",
       "      <td>12</td>\n",
       "      <td>Santiago</td>\n",
       "      <td>Las Condes</td>\n",
       "      <td>01-01-2012</td>\n",
       "    </tr>\n",
       "  </tbody>\n",
       "</table>\n",
       "</div>"
      ],
      "text/plain": [
       "                             permalink                    name  \\\n",
       "0                  /Organization/-Fame                   #fame   \n",
       "1               /Organization/-Qounter                :Qounter   \n",
       "2  /Organization/-The-One-Of-Them-Inc-  (THE) ONE of THEM,Inc.   \n",
       "3                /Organization/0-6-Com                 0-6.com   \n",
       "4       /Organization/004-Technologies        004 Technologies   \n",
       "5     /Organization/01Games-Technology      01Games Technology   \n",
       "6  /Organization/0Ndine-Biomedical-Inc  Ondine Biomedical Inc.   \n",
       "7                 /Organization/0Xdata                  H2O.ai   \n",
       "8                      /Organization/1                One Inc.   \n",
       "9            /Organization/1-2-3-Listo             1,2,3 Listo   \n",
       "\n",
       "                        homepage_url  \\\n",
       "0                 http://livfame.com   \n",
       "1             http://www.qounter.com   \n",
       "2                http://oneofthem.jp   \n",
       "3                 http://www.0-6.com   \n",
       "4  http://004gmbh.de/en/004-interact   \n",
       "5             http://www.01games.hk/   \n",
       "6               http://ondinebio.com   \n",
       "7                     http://h2o.ai/   \n",
       "8                 http://whatis1.com   \n",
       "9            http://www.123listo.com   \n",
       "\n",
       "                                       category_list     status country_code  \\\n",
       "0                                              Media  operating          IND   \n",
       "1  Application Platforms|Real Time|Social Network...  operating          USA   \n",
       "2                                  Apps|Games|Mobile  operating          NaN   \n",
       "3                                        Curated Web  operating          CHN   \n",
       "4                                           Software  operating          USA   \n",
       "5                                              Games  operating          HKG   \n",
       "6                                      Biotechnology  operating          CAN   \n",
       "7                                          Analytics  operating          USA   \n",
       "8                                             Mobile  operating          USA   \n",
       "9                                         E-Commerce  operating          CHL   \n",
       "\n",
       "  state_code                 region           city  founded_at  \n",
       "0         16                 Mumbai         Mumbai         NaN  \n",
       "1         DE             DE - Other  Delaware City  04-09-2014  \n",
       "2        NaN                    NaN            NaN         NaN  \n",
       "3         22                Beijing        Beijing  01-01-2007  \n",
       "4         IL  Springfield, Illinois      Champaign  01-01-2010  \n",
       "5        NaN              Hong Kong      Hong Kong         NaN  \n",
       "6         BC              Vancouver      Vancouver  01-01-1997  \n",
       "7         CA            SF Bay Area  Mountain View  01-01-2011  \n",
       "8         CA            SF Bay Area  San Francisco  01-08-2011  \n",
       "9         12               Santiago     Las Condes  01-01-2012  "
      ]
     },
     "execution_count": 7,
     "metadata": {},
     "output_type": "execute_result"
    }
   ],
   "source": [
    "companies.head(10)#preview of first 10 rows in companies dataframe"
   ]
  },
  {
   "cell_type": "code",
   "execution_count": 8,
   "metadata": {},
   "outputs": [
    {
     "name": "stdout",
     "output_type": "stream",
     "text": [
      "<class 'pandas.core.frame.DataFrame'>\n",
      "RangeIndex: 66368 entries, 0 to 66367\n",
      "Data columns (total 10 columns):\n",
      "permalink        66368 non-null object\n",
      "name             66367 non-null object\n",
      "homepage_url     61310 non-null object\n",
      "category_list    63220 non-null object\n",
      "status           66368 non-null object\n",
      "country_code     59410 non-null object\n",
      "state_code       57821 non-null object\n",
      "region           58338 non-null object\n",
      "city             58340 non-null object\n",
      "founded_at       51147 non-null object\n",
      "dtypes: object(10)\n",
      "memory usage: 5.1+ MB\n",
      "None\n"
     ]
    },
    {
     "data": {
      "text/html": [
       "<div>\n",
       "<style scoped>\n",
       "    .dataframe tbody tr th:only-of-type {\n",
       "        vertical-align: middle;\n",
       "    }\n",
       "\n",
       "    .dataframe tbody tr th {\n",
       "        vertical-align: top;\n",
       "    }\n",
       "\n",
       "    .dataframe thead th {\n",
       "        text-align: right;\n",
       "    }\n",
       "</style>\n",
       "<table border=\"1\" class=\"dataframe\">\n",
       "  <thead>\n",
       "    <tr style=\"text-align: right;\">\n",
       "      <th></th>\n",
       "      <th>permalink</th>\n",
       "      <th>name</th>\n",
       "      <th>homepage_url</th>\n",
       "      <th>category_list</th>\n",
       "      <th>status</th>\n",
       "      <th>country_code</th>\n",
       "      <th>state_code</th>\n",
       "      <th>region</th>\n",
       "      <th>city</th>\n",
       "      <th>founded_at</th>\n",
       "    </tr>\n",
       "  </thead>\n",
       "  <tbody>\n",
       "    <tr>\n",
       "      <th>count</th>\n",
       "      <td>66368</td>\n",
       "      <td>66367</td>\n",
       "      <td>61310</td>\n",
       "      <td>63220</td>\n",
       "      <td>66368</td>\n",
       "      <td>59410</td>\n",
       "      <td>57821</td>\n",
       "      <td>58338</td>\n",
       "      <td>58340</td>\n",
       "      <td>51147</td>\n",
       "    </tr>\n",
       "    <tr>\n",
       "      <th>unique</th>\n",
       "      <td>66368</td>\n",
       "      <td>66099</td>\n",
       "      <td>61191</td>\n",
       "      <td>27296</td>\n",
       "      <td>4</td>\n",
       "      <td>137</td>\n",
       "      <td>311</td>\n",
       "      <td>1092</td>\n",
       "      <td>5111</td>\n",
       "      <td>3978</td>\n",
       "    </tr>\n",
       "    <tr>\n",
       "      <th>top</th>\n",
       "      <td>/Organization/Flikdate</td>\n",
       "      <td>Roost</td>\n",
       "      <td>http://www.askforoffer.com</td>\n",
       "      <td>Software</td>\n",
       "      <td>operating</td>\n",
       "      <td>USA</td>\n",
       "      <td>CA</td>\n",
       "      <td>SF Bay Area</td>\n",
       "      <td>San Francisco</td>\n",
       "      <td>01-01-2012</td>\n",
       "    </tr>\n",
       "    <tr>\n",
       "      <th>freq</th>\n",
       "      <td>1</td>\n",
       "      <td>4</td>\n",
       "      <td>5</td>\n",
       "      <td>3995</td>\n",
       "      <td>53034</td>\n",
       "      <td>37601</td>\n",
       "      <td>12900</td>\n",
       "      <td>8804</td>\n",
       "      <td>3526</td>\n",
       "      <td>2730</td>\n",
       "    </tr>\n",
       "  </tbody>\n",
       "</table>\n",
       "</div>"
      ],
      "text/plain": [
       "                     permalink   name                homepage_url  \\\n",
       "count                    66368  66367                       61310   \n",
       "unique                   66368  66099                       61191   \n",
       "top     /Organization/Flikdate  Roost  http://www.askforoffer.com   \n",
       "freq                         1      4                           5   \n",
       "\n",
       "       category_list     status country_code state_code       region  \\\n",
       "count          63220      66368        59410      57821        58338   \n",
       "unique         27296          4          137        311         1092   \n",
       "top         Software  operating          USA         CA  SF Bay Area   \n",
       "freq            3995      53034        37601      12900         8804   \n",
       "\n",
       "                 city  founded_at  \n",
       "count           58340       51147  \n",
       "unique           5111        3978  \n",
       "top     San Francisco  01-01-2012  \n",
       "freq             3526        2730  "
      ]
     },
     "execution_count": 8,
     "metadata": {},
     "output_type": "execute_result"
    }
   ],
   "source": [
    "#print(companies.shape)#rows and columns count in the companies dataframe\n",
    "print(companies.info())#rows and columns info\n",
    "companies.describe()#getting basic information about columns\n",
    "#top indicates most frequent row for that column\n",
    "#There are no numeric columns in the companies dataframe, this is why we dont see any statistics like mean"
   ]
  },
  {
   "cell_type": "code",
   "execution_count": 9,
   "metadata": {},
   "outputs": [
    {
     "data": {
      "text/html": [
       "<div>\n",
       "<style scoped>\n",
       "    .dataframe tbody tr th:only-of-type {\n",
       "        vertical-align: middle;\n",
       "    }\n",
       "\n",
       "    .dataframe tbody tr th {\n",
       "        vertical-align: top;\n",
       "    }\n",
       "\n",
       "    .dataframe thead th {\n",
       "        text-align: right;\n",
       "    }\n",
       "</style>\n",
       "<table border=\"1\" class=\"dataframe\">\n",
       "  <thead>\n",
       "    <tr style=\"text-align: right;\">\n",
       "      <th></th>\n",
       "      <th>company_permalink</th>\n",
       "      <th>funding_round_permalink</th>\n",
       "      <th>funding_round_type</th>\n",
       "      <th>funding_round_code</th>\n",
       "      <th>funded_at</th>\n",
       "      <th>raised_amount_usd</th>\n",
       "    </tr>\n",
       "  </thead>\n",
       "  <tbody>\n",
       "    <tr>\n",
       "      <th>0</th>\n",
       "      <td>/organization/-fame</td>\n",
       "      <td>/funding-round/9a01d05418af9f794eebff7ace91f638</td>\n",
       "      <td>venture</td>\n",
       "      <td>B</td>\n",
       "      <td>05-01-2015</td>\n",
       "      <td>10000000.0</td>\n",
       "    </tr>\n",
       "    <tr>\n",
       "      <th>1</th>\n",
       "      <td>/ORGANIZATION/-QOUNTER</td>\n",
       "      <td>/funding-round/22dacff496eb7acb2b901dec1dfe5633</td>\n",
       "      <td>venture</td>\n",
       "      <td>A</td>\n",
       "      <td>14-10-2014</td>\n",
       "      <td>NaN</td>\n",
       "    </tr>\n",
       "    <tr>\n",
       "      <th>2</th>\n",
       "      <td>/organization/-qounter</td>\n",
       "      <td>/funding-round/b44fbb94153f6cdef13083530bb48030</td>\n",
       "      <td>seed</td>\n",
       "      <td>NaN</td>\n",
       "      <td>01-03-2014</td>\n",
       "      <td>700000.0</td>\n",
       "    </tr>\n",
       "    <tr>\n",
       "      <th>3</th>\n",
       "      <td>/ORGANIZATION/-THE-ONE-OF-THEM-INC-</td>\n",
       "      <td>/funding-round/650b8f704416801069bb178a1418776b</td>\n",
       "      <td>venture</td>\n",
       "      <td>B</td>\n",
       "      <td>30-01-2014</td>\n",
       "      <td>3406878.0</td>\n",
       "    </tr>\n",
       "    <tr>\n",
       "      <th>4</th>\n",
       "      <td>/organization/0-6-com</td>\n",
       "      <td>/funding-round/5727accaeaa57461bd22a9bdd945382d</td>\n",
       "      <td>venture</td>\n",
       "      <td>A</td>\n",
       "      <td>19-03-2008</td>\n",
       "      <td>2000000.0</td>\n",
       "    </tr>\n",
       "    <tr>\n",
       "      <th>5</th>\n",
       "      <td>/ORGANIZATION/004-TECHNOLOGIES</td>\n",
       "      <td>/funding-round/1278dd4e6a37fa4b7d7e06c21b3c1830</td>\n",
       "      <td>venture</td>\n",
       "      <td>NaN</td>\n",
       "      <td>24-07-2014</td>\n",
       "      <td>NaN</td>\n",
       "    </tr>\n",
       "    <tr>\n",
       "      <th>6</th>\n",
       "      <td>/organization/01games-technology</td>\n",
       "      <td>/funding-round/7d53696f2b4f607a2f2a8cbb83d01839</td>\n",
       "      <td>undisclosed</td>\n",
       "      <td>NaN</td>\n",
       "      <td>01-07-2014</td>\n",
       "      <td>41250.0</td>\n",
       "    </tr>\n",
       "    <tr>\n",
       "      <th>7</th>\n",
       "      <td>/ORGANIZATION/0NDINE-BIOMEDICAL-INC</td>\n",
       "      <td>/funding-round/2b9d3ac293d5cdccbecff5c8cb0f327d</td>\n",
       "      <td>seed</td>\n",
       "      <td>NaN</td>\n",
       "      <td>11-09-2009</td>\n",
       "      <td>43360.0</td>\n",
       "    </tr>\n",
       "    <tr>\n",
       "      <th>8</th>\n",
       "      <td>/organization/0ndine-biomedical-inc</td>\n",
       "      <td>/funding-round/954b9499724b946ad8c396a57a5f3b72</td>\n",
       "      <td>venture</td>\n",
       "      <td>NaN</td>\n",
       "      <td>21-12-2009</td>\n",
       "      <td>719491.0</td>\n",
       "    </tr>\n",
       "    <tr>\n",
       "      <th>9</th>\n",
       "      <td>/ORGANIZATION/0XDATA</td>\n",
       "      <td>/funding-round/383a9bd2c04f7038bb543ccef5ba3eae</td>\n",
       "      <td>seed</td>\n",
       "      <td>NaN</td>\n",
       "      <td>22-05-2013</td>\n",
       "      <td>3000000.0</td>\n",
       "    </tr>\n",
       "  </tbody>\n",
       "</table>\n",
       "</div>"
      ],
      "text/plain": [
       "                     company_permalink  \\\n",
       "0                  /organization/-fame   \n",
       "1               /ORGANIZATION/-QOUNTER   \n",
       "2               /organization/-qounter   \n",
       "3  /ORGANIZATION/-THE-ONE-OF-THEM-INC-   \n",
       "4                /organization/0-6-com   \n",
       "5       /ORGANIZATION/004-TECHNOLOGIES   \n",
       "6     /organization/01games-technology   \n",
       "7  /ORGANIZATION/0NDINE-BIOMEDICAL-INC   \n",
       "8  /organization/0ndine-biomedical-inc   \n",
       "9                 /ORGANIZATION/0XDATA   \n",
       "\n",
       "                           funding_round_permalink funding_round_type  \\\n",
       "0  /funding-round/9a01d05418af9f794eebff7ace91f638            venture   \n",
       "1  /funding-round/22dacff496eb7acb2b901dec1dfe5633            venture   \n",
       "2  /funding-round/b44fbb94153f6cdef13083530bb48030               seed   \n",
       "3  /funding-round/650b8f704416801069bb178a1418776b            venture   \n",
       "4  /funding-round/5727accaeaa57461bd22a9bdd945382d            venture   \n",
       "5  /funding-round/1278dd4e6a37fa4b7d7e06c21b3c1830            venture   \n",
       "6  /funding-round/7d53696f2b4f607a2f2a8cbb83d01839        undisclosed   \n",
       "7  /funding-round/2b9d3ac293d5cdccbecff5c8cb0f327d               seed   \n",
       "8  /funding-round/954b9499724b946ad8c396a57a5f3b72            venture   \n",
       "9  /funding-round/383a9bd2c04f7038bb543ccef5ba3eae               seed   \n",
       "\n",
       "  funding_round_code   funded_at  raised_amount_usd  \n",
       "0                  B  05-01-2015         10000000.0  \n",
       "1                  A  14-10-2014                NaN  \n",
       "2                NaN  01-03-2014           700000.0  \n",
       "3                  B  30-01-2014          3406878.0  \n",
       "4                  A  19-03-2008          2000000.0  \n",
       "5                NaN  24-07-2014                NaN  \n",
       "6                NaN  01-07-2014            41250.0  \n",
       "7                NaN  11-09-2009            43360.0  \n",
       "8                NaN  21-12-2009           719491.0  \n",
       "9                NaN  22-05-2013          3000000.0  "
      ]
     },
     "execution_count": 9,
     "metadata": {},
     "output_type": "execute_result"
    }
   ],
   "source": [
    "rounds2.head(10)#preview of first 10 rows in rounds2 dataframe"
   ]
  },
  {
   "cell_type": "code",
   "execution_count": 10,
   "metadata": {},
   "outputs": [
    {
     "name": "stdout",
     "output_type": "stream",
     "text": [
      "<class 'pandas.core.frame.DataFrame'>\n",
      "RangeIndex: 114949 entries, 0 to 114948\n",
      "Data columns (total 6 columns):\n",
      "company_permalink          114949 non-null object\n",
      "funding_round_permalink    114949 non-null object\n",
      "funding_round_type         114949 non-null object\n",
      "funding_round_code         31140 non-null object\n",
      "funded_at                  114949 non-null object\n",
      "raised_amount_usd          94959 non-null float64\n",
      "dtypes: float64(1), object(5)\n",
      "memory usage: 5.3+ MB\n",
      "None\n",
      "       raised_amount_usd\n",
      "count       9.495900e+04\n",
      "mean        1.042687e+07\n",
      "std         1.148212e+08\n",
      "min         0.000000e+00\n",
      "25%         3.225000e+05\n",
      "50%         1.680511e+06\n",
      "75%         7.000000e+06\n",
      "max         2.127194e+10\n"
     ]
    },
    {
     "data": {
      "text/html": [
       "<div>\n",
       "<style scoped>\n",
       "    .dataframe tbody tr th:only-of-type {\n",
       "        vertical-align: middle;\n",
       "    }\n",
       "\n",
       "    .dataframe tbody tr th {\n",
       "        vertical-align: top;\n",
       "    }\n",
       "\n",
       "    .dataframe thead th {\n",
       "        text-align: right;\n",
       "    }\n",
       "</style>\n",
       "<table border=\"1\" class=\"dataframe\">\n",
       "  <thead>\n",
       "    <tr style=\"text-align: right;\">\n",
       "      <th></th>\n",
       "      <th>company_permalink</th>\n",
       "      <th>funding_round_permalink</th>\n",
       "      <th>funding_round_type</th>\n",
       "      <th>funding_round_code</th>\n",
       "      <th>funded_at</th>\n",
       "    </tr>\n",
       "  </thead>\n",
       "  <tbody>\n",
       "    <tr>\n",
       "      <th>count</th>\n",
       "      <td>114949</td>\n",
       "      <td>114949</td>\n",
       "      <td>114949</td>\n",
       "      <td>31140</td>\n",
       "      <td>114949</td>\n",
       "    </tr>\n",
       "    <tr>\n",
       "      <th>unique</th>\n",
       "      <td>90247</td>\n",
       "      <td>114949</td>\n",
       "      <td>14</td>\n",
       "      <td>8</td>\n",
       "      <td>5033</td>\n",
       "    </tr>\n",
       "    <tr>\n",
       "      <th>top</th>\n",
       "      <td>/ORGANIZATION/SOLARFLARE</td>\n",
       "      <td>/funding-round/c5e0a1061e38f24f1d8b788fb7a0a3c9</td>\n",
       "      <td>venture</td>\n",
       "      <td>A</td>\n",
       "      <td>01-01-2014</td>\n",
       "    </tr>\n",
       "    <tr>\n",
       "      <th>freq</th>\n",
       "      <td>10</td>\n",
       "      <td>1</td>\n",
       "      <td>55494</td>\n",
       "      <td>14747</td>\n",
       "      <td>779</td>\n",
       "    </tr>\n",
       "  </tbody>\n",
       "</table>\n",
       "</div>"
      ],
      "text/plain": [
       "               company_permalink  \\\n",
       "count                     114949   \n",
       "unique                     90247   \n",
       "top     /ORGANIZATION/SOLARFLARE   \n",
       "freq                          10   \n",
       "\n",
       "                                funding_round_permalink funding_round_type  \\\n",
       "count                                            114949             114949   \n",
       "unique                                           114949                 14   \n",
       "top     /funding-round/c5e0a1061e38f24f1d8b788fb7a0a3c9            venture   \n",
       "freq                                                  1              55494   \n",
       "\n",
       "       funding_round_code   funded_at  \n",
       "count               31140      114949  \n",
       "unique                  8        5033  \n",
       "top                     A  01-01-2014  \n",
       "freq                14747         779  "
      ]
     },
     "execution_count": 10,
     "metadata": {},
     "output_type": "execute_result"
    }
   ],
   "source": [
    "print(rounds2.info())#rows and columns info\n",
    "print(rounds2.describe())#getting basic information about numeric columns\n",
    "rounds2.iloc[:,:-1].describe()#getting basic information about remaining non-numeric columns"
   ]
  },
  {
   "cell_type": "code",
   "execution_count": 11,
   "metadata": {},
   "outputs": [
    {
     "name": "stdout",
     "output_type": "stream",
     "text": [
      "(0, 6)\n",
      "(0, 6)\n",
      "(0, 10)\n"
     ]
    }
   ],
   "source": [
    "#checking if any company_permalink in rounds2 has NaN value \n",
    "print(rounds2[rounds2.company_permalink.isnull()].shape)#prints zero rows, means none of the company_permalink are NULL\n",
    "print(rounds2[rounds2.funding_round_permalink.isnull()].shape)#prints zero rows, means none of the funding_round_permalink are NULL\n",
    "\n",
    "#checking if any permalink in companies has NaN value \n",
    "print(companies[companies.permalink.isnull()].shape)#prints zero rows, means none of the permalink are NULL"
   ]
  },
  {
   "cell_type": "code",
   "execution_count": 12,
   "metadata": {},
   "outputs": [
    {
     "name": "stdout",
     "output_type": "stream",
     "text": [
      "set()\n",
      "0\n",
      "156615\n"
     ]
    }
   ],
   "source": [
    "#checking common and non-common companies in both datasets - rounds2 and companies\n",
    "common_comp_set=set(rounds2.company_permalink).intersection(set(companies.permalink))#set to generate common companies\n",
    "print(common_comp_set)#companies that are common in both datasets -> don't see any, must be some kind of naming convention mismatch\n",
    "print(len(common_comp_set))#count is zero\n",
    "all_comp_set=set(rounds2.company_permalink).union(set(companies.permalink))#all companies in both dataframes\n",
    "#print(all_comp_set)#crashing due to load\n",
    "print(len(all_comp_set))#count is 156615, which is 66368(all unique companies in companies dataframe)+90247(all unique companies in rounds2 dataframe)"
   ]
  },
  {
   "cell_type": "markdown",
   "metadata": {},
   "source": [
    "On taking a closer look, both dataframes have permalink that starts like this /Organization/\n",
    "But some are capital letter, some are small or combination of both\n",
    "lets take value counts of these types"
   ]
  },
  {
   "cell_type": "code",
   "execution_count": 13,
   "metadata": {},
   "outputs": [
    {
     "name": "stdout",
     "output_type": "stream",
     "text": [
      "/Organization/    66368\n",
      "Name: permalink, dtype: int64\n",
      "/organization/    57475\n",
      "/ORGANIZATION/    57474\n",
      "Name: company_permalink, dtype: int64\n"
     ]
    }
   ],
   "source": [
    "#print(len('/Organization/'))#returned length 14\n",
    "print(companies.permalink.apply(lambda x: x[:14]).value_counts())#all permalinks start the same, with capital letter\n",
    "print(rounds2.company_permalink.apply(lambda x: x[:14]).value_counts())#half of the permalinks are complete lower case, remaining half are complete upper case"
   ]
  },
  {
   "cell_type": "code",
   "execution_count": 14,
   "metadata": {},
   "outputs": [],
   "source": [
    "#converting all permalinks to lower case\n",
    "companies.permalink=companies.permalink.str.lower()\n",
    "rounds2.company_permalink=rounds2.company_permalink.str.lower()"
   ]
  },
  {
   "cell_type": "code",
   "execution_count": 15,
   "metadata": {},
   "outputs": [
    {
     "data": {
      "text/html": [
       "<div>\n",
       "<style scoped>\n",
       "    .dataframe tbody tr th:only-of-type {\n",
       "        vertical-align: middle;\n",
       "    }\n",
       "\n",
       "    .dataframe tbody tr th {\n",
       "        vertical-align: top;\n",
       "    }\n",
       "\n",
       "    .dataframe thead th {\n",
       "        text-align: right;\n",
       "    }\n",
       "</style>\n",
       "<table border=\"1\" class=\"dataframe\">\n",
       "  <thead>\n",
       "    <tr style=\"text-align: right;\">\n",
       "      <th></th>\n",
       "      <th>permalink</th>\n",
       "      <th>name</th>\n",
       "      <th>homepage_url</th>\n",
       "      <th>category_list</th>\n",
       "      <th>status</th>\n",
       "      <th>country_code</th>\n",
       "      <th>state_code</th>\n",
       "      <th>region</th>\n",
       "      <th>city</th>\n",
       "      <th>founded_at</th>\n",
       "    </tr>\n",
       "  </thead>\n",
       "  <tbody>\n",
       "    <tr>\n",
       "      <th>0</th>\n",
       "      <td>/organization/-fame</td>\n",
       "      <td>#fame</td>\n",
       "      <td>http://livfame.com</td>\n",
       "      <td>Media</td>\n",
       "      <td>operating</td>\n",
       "      <td>IND</td>\n",
       "      <td>16</td>\n",
       "      <td>Mumbai</td>\n",
       "      <td>Mumbai</td>\n",
       "      <td>NaN</td>\n",
       "    </tr>\n",
       "    <tr>\n",
       "      <th>1</th>\n",
       "      <td>/organization/-qounter</td>\n",
       "      <td>:Qounter</td>\n",
       "      <td>http://www.qounter.com</td>\n",
       "      <td>Application Platforms|Real Time|Social Network...</td>\n",
       "      <td>operating</td>\n",
       "      <td>USA</td>\n",
       "      <td>DE</td>\n",
       "      <td>DE - Other</td>\n",
       "      <td>Delaware City</td>\n",
       "      <td>04-09-2014</td>\n",
       "    </tr>\n",
       "    <tr>\n",
       "      <th>2</th>\n",
       "      <td>/organization/-the-one-of-them-inc-</td>\n",
       "      <td>(THE) ONE of THEM,Inc.</td>\n",
       "      <td>http://oneofthem.jp</td>\n",
       "      <td>Apps|Games|Mobile</td>\n",
       "      <td>operating</td>\n",
       "      <td>NaN</td>\n",
       "      <td>NaN</td>\n",
       "      <td>NaN</td>\n",
       "      <td>NaN</td>\n",
       "      <td>NaN</td>\n",
       "    </tr>\n",
       "    <tr>\n",
       "      <th>3</th>\n",
       "      <td>/organization/0-6-com</td>\n",
       "      <td>0-6.com</td>\n",
       "      <td>http://www.0-6.com</td>\n",
       "      <td>Curated Web</td>\n",
       "      <td>operating</td>\n",
       "      <td>CHN</td>\n",
       "      <td>22</td>\n",
       "      <td>Beijing</td>\n",
       "      <td>Beijing</td>\n",
       "      <td>01-01-2007</td>\n",
       "    </tr>\n",
       "    <tr>\n",
       "      <th>4</th>\n",
       "      <td>/organization/004-technologies</td>\n",
       "      <td>004 Technologies</td>\n",
       "      <td>http://004gmbh.de/en/004-interact</td>\n",
       "      <td>Software</td>\n",
       "      <td>operating</td>\n",
       "      <td>USA</td>\n",
       "      <td>IL</td>\n",
       "      <td>Springfield, Illinois</td>\n",
       "      <td>Champaign</td>\n",
       "      <td>01-01-2010</td>\n",
       "    </tr>\n",
       "  </tbody>\n",
       "</table>\n",
       "</div>"
      ],
      "text/plain": [
       "                             permalink                    name  \\\n",
       "0                  /organization/-fame                   #fame   \n",
       "1               /organization/-qounter                :Qounter   \n",
       "2  /organization/-the-one-of-them-inc-  (THE) ONE of THEM,Inc.   \n",
       "3                /organization/0-6-com                 0-6.com   \n",
       "4       /organization/004-technologies        004 Technologies   \n",
       "\n",
       "                        homepage_url  \\\n",
       "0                 http://livfame.com   \n",
       "1             http://www.qounter.com   \n",
       "2                http://oneofthem.jp   \n",
       "3                 http://www.0-6.com   \n",
       "4  http://004gmbh.de/en/004-interact   \n",
       "\n",
       "                                       category_list     status country_code  \\\n",
       "0                                              Media  operating          IND   \n",
       "1  Application Platforms|Real Time|Social Network...  operating          USA   \n",
       "2                                  Apps|Games|Mobile  operating          NaN   \n",
       "3                                        Curated Web  operating          CHN   \n",
       "4                                           Software  operating          USA   \n",
       "\n",
       "  state_code                 region           city  founded_at  \n",
       "0         16                 Mumbai         Mumbai         NaN  \n",
       "1         DE             DE - Other  Delaware City  04-09-2014  \n",
       "2        NaN                    NaN            NaN         NaN  \n",
       "3         22                Beijing        Beijing  01-01-2007  \n",
       "4         IL  Springfield, Illinois      Champaign  01-01-2010  "
      ]
     },
     "execution_count": 15,
     "metadata": {},
     "output_type": "execute_result"
    }
   ],
   "source": [
    "companies.head()#preview of first 5 rows in companies dataframe after permalink standardization"
   ]
  },
  {
   "cell_type": "code",
   "execution_count": 16,
   "metadata": {},
   "outputs": [
    {
     "name": "stdout",
     "output_type": "stream",
     "text": [
      "<class 'pandas.core.frame.DataFrame'>\n",
      "RangeIndex: 66368 entries, 0 to 66367\n",
      "Data columns (total 10 columns):\n",
      "permalink        66368 non-null object\n",
      "name             66367 non-null object\n",
      "homepage_url     61310 non-null object\n",
      "category_list    63220 non-null object\n",
      "status           66368 non-null object\n",
      "country_code     59410 non-null object\n",
      "state_code       57821 non-null object\n",
      "region           58338 non-null object\n",
      "city             58340 non-null object\n",
      "founded_at       51147 non-null object\n",
      "dtypes: object(10)\n",
      "memory usage: 5.1+ MB\n",
      "None\n"
     ]
    },
    {
     "data": {
      "text/html": [
       "<div>\n",
       "<style scoped>\n",
       "    .dataframe tbody tr th:only-of-type {\n",
       "        vertical-align: middle;\n",
       "    }\n",
       "\n",
       "    .dataframe tbody tr th {\n",
       "        vertical-align: top;\n",
       "    }\n",
       "\n",
       "    .dataframe thead th {\n",
       "        text-align: right;\n",
       "    }\n",
       "</style>\n",
       "<table border=\"1\" class=\"dataframe\">\n",
       "  <thead>\n",
       "    <tr style=\"text-align: right;\">\n",
       "      <th></th>\n",
       "      <th>permalink</th>\n",
       "      <th>name</th>\n",
       "      <th>homepage_url</th>\n",
       "      <th>category_list</th>\n",
       "      <th>status</th>\n",
       "      <th>country_code</th>\n",
       "      <th>state_code</th>\n",
       "      <th>region</th>\n",
       "      <th>city</th>\n",
       "      <th>founded_at</th>\n",
       "    </tr>\n",
       "  </thead>\n",
       "  <tbody>\n",
       "    <tr>\n",
       "      <th>count</th>\n",
       "      <td>66368</td>\n",
       "      <td>66367</td>\n",
       "      <td>61310</td>\n",
       "      <td>63220</td>\n",
       "      <td>66368</td>\n",
       "      <td>59410</td>\n",
       "      <td>57821</td>\n",
       "      <td>58338</td>\n",
       "      <td>58340</td>\n",
       "      <td>51147</td>\n",
       "    </tr>\n",
       "    <tr>\n",
       "      <th>unique</th>\n",
       "      <td>66368</td>\n",
       "      <td>66099</td>\n",
       "      <td>61191</td>\n",
       "      <td>27296</td>\n",
       "      <td>4</td>\n",
       "      <td>137</td>\n",
       "      <td>311</td>\n",
       "      <td>1092</td>\n",
       "      <td>5111</td>\n",
       "      <td>3978</td>\n",
       "    </tr>\n",
       "    <tr>\n",
       "      <th>top</th>\n",
       "      <td>/organization/golark</td>\n",
       "      <td>Roost</td>\n",
       "      <td>http://www.askforoffer.com</td>\n",
       "      <td>Software</td>\n",
       "      <td>operating</td>\n",
       "      <td>USA</td>\n",
       "      <td>CA</td>\n",
       "      <td>SF Bay Area</td>\n",
       "      <td>San Francisco</td>\n",
       "      <td>01-01-2012</td>\n",
       "    </tr>\n",
       "    <tr>\n",
       "      <th>freq</th>\n",
       "      <td>1</td>\n",
       "      <td>4</td>\n",
       "      <td>5</td>\n",
       "      <td>3995</td>\n",
       "      <td>53034</td>\n",
       "      <td>37601</td>\n",
       "      <td>12900</td>\n",
       "      <td>8804</td>\n",
       "      <td>3526</td>\n",
       "      <td>2730</td>\n",
       "    </tr>\n",
       "  </tbody>\n",
       "</table>\n",
       "</div>"
      ],
      "text/plain": [
       "                   permalink   name                homepage_url category_list  \\\n",
       "count                  66368  66367                       61310         63220   \n",
       "unique                 66368  66099                       61191         27296   \n",
       "top     /organization/golark  Roost  http://www.askforoffer.com      Software   \n",
       "freq                       1      4                           5          3995   \n",
       "\n",
       "           status country_code state_code       region           city  \\\n",
       "count       66368        59410      57821        58338          58340   \n",
       "unique          4          137        311         1092           5111   \n",
       "top     operating          USA         CA  SF Bay Area  San Francisco   \n",
       "freq        53034        37601      12900         8804           3526   \n",
       "\n",
       "        founded_at  \n",
       "count        51147  \n",
       "unique        3978  \n",
       "top     01-01-2012  \n",
       "freq          2730  "
      ]
     },
     "execution_count": 16,
     "metadata": {},
     "output_type": "execute_result"
    }
   ],
   "source": [
    "print(companies.info())#rows and columns info again\n",
    "companies.describe()#getting basic information about columns again"
   ]
  },
  {
   "cell_type": "code",
   "execution_count": 17,
   "metadata": {},
   "outputs": [
    {
     "data": {
      "text/html": [
       "<div>\n",
       "<style scoped>\n",
       "    .dataframe tbody tr th:only-of-type {\n",
       "        vertical-align: middle;\n",
       "    }\n",
       "\n",
       "    .dataframe tbody tr th {\n",
       "        vertical-align: top;\n",
       "    }\n",
       "\n",
       "    .dataframe thead th {\n",
       "        text-align: right;\n",
       "    }\n",
       "</style>\n",
       "<table border=\"1\" class=\"dataframe\">\n",
       "  <thead>\n",
       "    <tr style=\"text-align: right;\">\n",
       "      <th></th>\n",
       "      <th>company_permalink</th>\n",
       "      <th>funding_round_permalink</th>\n",
       "      <th>funding_round_type</th>\n",
       "      <th>funding_round_code</th>\n",
       "      <th>funded_at</th>\n",
       "      <th>raised_amount_usd</th>\n",
       "    </tr>\n",
       "  </thead>\n",
       "  <tbody>\n",
       "    <tr>\n",
       "      <th>0</th>\n",
       "      <td>/organization/-fame</td>\n",
       "      <td>/funding-round/9a01d05418af9f794eebff7ace91f638</td>\n",
       "      <td>venture</td>\n",
       "      <td>B</td>\n",
       "      <td>05-01-2015</td>\n",
       "      <td>10000000.0</td>\n",
       "    </tr>\n",
       "    <tr>\n",
       "      <th>1</th>\n",
       "      <td>/organization/-qounter</td>\n",
       "      <td>/funding-round/22dacff496eb7acb2b901dec1dfe5633</td>\n",
       "      <td>venture</td>\n",
       "      <td>A</td>\n",
       "      <td>14-10-2014</td>\n",
       "      <td>NaN</td>\n",
       "    </tr>\n",
       "    <tr>\n",
       "      <th>2</th>\n",
       "      <td>/organization/-qounter</td>\n",
       "      <td>/funding-round/b44fbb94153f6cdef13083530bb48030</td>\n",
       "      <td>seed</td>\n",
       "      <td>NaN</td>\n",
       "      <td>01-03-2014</td>\n",
       "      <td>700000.0</td>\n",
       "    </tr>\n",
       "    <tr>\n",
       "      <th>3</th>\n",
       "      <td>/organization/-the-one-of-them-inc-</td>\n",
       "      <td>/funding-round/650b8f704416801069bb178a1418776b</td>\n",
       "      <td>venture</td>\n",
       "      <td>B</td>\n",
       "      <td>30-01-2014</td>\n",
       "      <td>3406878.0</td>\n",
       "    </tr>\n",
       "    <tr>\n",
       "      <th>4</th>\n",
       "      <td>/organization/0-6-com</td>\n",
       "      <td>/funding-round/5727accaeaa57461bd22a9bdd945382d</td>\n",
       "      <td>venture</td>\n",
       "      <td>A</td>\n",
       "      <td>19-03-2008</td>\n",
       "      <td>2000000.0</td>\n",
       "    </tr>\n",
       "  </tbody>\n",
       "</table>\n",
       "</div>"
      ],
      "text/plain": [
       "                     company_permalink  \\\n",
       "0                  /organization/-fame   \n",
       "1               /organization/-qounter   \n",
       "2               /organization/-qounter   \n",
       "3  /organization/-the-one-of-them-inc-   \n",
       "4                /organization/0-6-com   \n",
       "\n",
       "                           funding_round_permalink funding_round_type  \\\n",
       "0  /funding-round/9a01d05418af9f794eebff7ace91f638            venture   \n",
       "1  /funding-round/22dacff496eb7acb2b901dec1dfe5633            venture   \n",
       "2  /funding-round/b44fbb94153f6cdef13083530bb48030               seed   \n",
       "3  /funding-round/650b8f704416801069bb178a1418776b            venture   \n",
       "4  /funding-round/5727accaeaa57461bd22a9bdd945382d            venture   \n",
       "\n",
       "  funding_round_code   funded_at  raised_amount_usd  \n",
       "0                  B  05-01-2015         10000000.0  \n",
       "1                  A  14-10-2014                NaN  \n",
       "2                NaN  01-03-2014           700000.0  \n",
       "3                  B  30-01-2014          3406878.0  \n",
       "4                  A  19-03-2008          2000000.0  "
      ]
     },
     "execution_count": 17,
     "metadata": {},
     "output_type": "execute_result"
    }
   ],
   "source": [
    "rounds2.head()#preview of first 5 rows in rounds2 dataframe after permalink standardization"
   ]
  },
  {
   "cell_type": "code",
   "execution_count": 18,
   "metadata": {},
   "outputs": [
    {
     "name": "stdout",
     "output_type": "stream",
     "text": [
      "<class 'pandas.core.frame.DataFrame'>\n",
      "RangeIndex: 114949 entries, 0 to 114948\n",
      "Data columns (total 6 columns):\n",
      "company_permalink          114949 non-null object\n",
      "funding_round_permalink    114949 non-null object\n",
      "funding_round_type         114949 non-null object\n",
      "funding_round_code         31140 non-null object\n",
      "funded_at                  114949 non-null object\n",
      "raised_amount_usd          94959 non-null float64\n",
      "dtypes: float64(1), object(5)\n",
      "memory usage: 5.3+ MB\n",
      "None\n"
     ]
    },
    {
     "data": {
      "text/html": [
       "<div>\n",
       "<style scoped>\n",
       "    .dataframe tbody tr th:only-of-type {\n",
       "        vertical-align: middle;\n",
       "    }\n",
       "\n",
       "    .dataframe tbody tr th {\n",
       "        vertical-align: top;\n",
       "    }\n",
       "\n",
       "    .dataframe thead th {\n",
       "        text-align: right;\n",
       "    }\n",
       "</style>\n",
       "<table border=\"1\" class=\"dataframe\">\n",
       "  <thead>\n",
       "    <tr style=\"text-align: right;\">\n",
       "      <th></th>\n",
       "      <th>company_permalink</th>\n",
       "      <th>funding_round_permalink</th>\n",
       "      <th>funding_round_type</th>\n",
       "      <th>funding_round_code</th>\n",
       "      <th>funded_at</th>\n",
       "    </tr>\n",
       "  </thead>\n",
       "  <tbody>\n",
       "    <tr>\n",
       "      <th>count</th>\n",
       "      <td>114949</td>\n",
       "      <td>114949</td>\n",
       "      <td>114949</td>\n",
       "      <td>31140</td>\n",
       "      <td>114949</td>\n",
       "    </tr>\n",
       "    <tr>\n",
       "      <th>unique</th>\n",
       "      <td>66368</td>\n",
       "      <td>114949</td>\n",
       "      <td>14</td>\n",
       "      <td>8</td>\n",
       "      <td>5033</td>\n",
       "    </tr>\n",
       "    <tr>\n",
       "      <th>top</th>\n",
       "      <td>/organization/solarflare</td>\n",
       "      <td>/funding-round/c5e0a1061e38f24f1d8b788fb7a0a3c9</td>\n",
       "      <td>venture</td>\n",
       "      <td>A</td>\n",
       "      <td>01-01-2014</td>\n",
       "    </tr>\n",
       "    <tr>\n",
       "      <th>freq</th>\n",
       "      <td>19</td>\n",
       "      <td>1</td>\n",
       "      <td>55494</td>\n",
       "      <td>14747</td>\n",
       "      <td>779</td>\n",
       "    </tr>\n",
       "  </tbody>\n",
       "</table>\n",
       "</div>"
      ],
      "text/plain": [
       "               company_permalink  \\\n",
       "count                     114949   \n",
       "unique                     66368   \n",
       "top     /organization/solarflare   \n",
       "freq                          19   \n",
       "\n",
       "                                funding_round_permalink funding_round_type  \\\n",
       "count                                            114949             114949   \n",
       "unique                                           114949                 14   \n",
       "top     /funding-round/c5e0a1061e38f24f1d8b788fb7a0a3c9            venture   \n",
       "freq                                                  1              55494   \n",
       "\n",
       "       funding_round_code   funded_at  \n",
       "count               31140      114949  \n",
       "unique                  8        5033  \n",
       "top                     A  01-01-2014  \n",
       "freq                14747         779  "
      ]
     },
     "execution_count": 18,
     "metadata": {},
     "output_type": "execute_result"
    }
   ],
   "source": [
    "print(rounds2.info())#rows and columns info again\n",
    "rounds2.iloc[:,:-1].describe()#getting basic information about remaining non-numeric columns again\n",
    "#unique values in company_permalink decreased from 90247 to 66368 after standardization"
   ]
  },
  {
   "cell_type": "markdown",
   "metadata": {},
   "source": [
    "### Table 1.1: \n",
    "### 1. How many unique companies are present in rounds2?<br>\n",
    "As you can see, unique count of company_permalink is 66368 in above return of rounds2.iloc\\[:,:-1\\].describe() after converting company_permalink to lower case<br>\n",
    "Alternate answer below:\n",
    "len(rounds2.company_permalink.unique())"
   ]
  },
  {
   "cell_type": "code",
   "execution_count": 19,
   "metadata": {},
   "outputs": [
    {
     "data": {
      "text/plain": [
       "66368"
      ]
     },
     "execution_count": 19,
     "metadata": {},
     "output_type": "execute_result"
    }
   ],
   "source": [
    "len(rounds2.company_permalink.unique())"
   ]
  },
  {
   "cell_type": "markdown",
   "metadata": {},
   "source": [
    "### Table 1.1:  \n",
    "### 2. How many unique companies are present in the companies file?<br>\n",
    "As you can see, unique count of permalink is 66368 in above return of companies.describe() after converting permalink to lower case<br>\n",
    "Alternate answer below:\n",
    "len(companies.permalink.unique())"
   ]
  },
  {
   "cell_type": "code",
   "execution_count": 20,
   "metadata": {},
   "outputs": [
    {
     "data": {
      "text/plain": [
       "66368"
      ]
     },
     "execution_count": 20,
     "metadata": {},
     "output_type": "execute_result"
    }
   ],
   "source": [
    "len(companies.permalink.unique())"
   ]
  },
  {
   "cell_type": "markdown",
   "metadata": {},
   "source": [
    "### Table 1.1: \n",
    "### 3. In the companies data frame, which column can be used as the  unique key for each company? Write the name of the column.<br>\n",
    "As you can see, unique count of <ins>permalink</ins> is 66368 in above return of companies.describe() which is same as the number of rows<br>\n",
    "This means that all the values are unique with no repetition. Also, it's non-numeric field.<br>\n",
    "Hence it serves as primary or unique key\n"
   ]
  },
  {
   "cell_type": "markdown",
   "metadata": {},
   "source": [
    "### Table 1.1: \n",
    "### 4. Are there any companies in the rounds2 file which are not  present in companies ? Answer Y/N.<br>\n",
    "In the next 3 cells, we will check if there are any companies that are in rounds2 dataframe but not in companies dataframe and vice-versa. We dont find any missing companies\n"
   ]
  },
  {
   "cell_type": "code",
   "execution_count": 21,
   "metadata": {},
   "outputs": [
    {
     "data": {
      "text/plain": [
       "set()"
      ]
     },
     "execution_count": 21,
     "metadata": {},
     "output_type": "execute_result"
    }
   ],
   "source": [
    "#getting a list of companies that are either in companies dataframe or rounds2 dataframe, but not in both\n",
    "set(rounds2.company_permalink).symmetric_difference(set(companies.permalink))#we dont see any such companies\n",
    "\n",
    "#cross-checking some names that showed mismatch with different encoding\n",
    "#print(companies.iloc[33892,0])\n",
    "#print(rounds2.iloc[58473,0])\n",
    "#print(rounds2.iloc[58474,0])\n",
    "#print(companies.iloc[33892,0]==rounds2.iloc[58473,0])\n",
    "#print(companies.iloc[33892,0]==rounds2.iloc[58474,0])"
   ]
  },
  {
   "cell_type": "code",
   "execution_count": 22,
   "metadata": {},
   "outputs": [
    {
     "data": {
      "text/plain": [
       "set()"
      ]
     },
     "execution_count": 22,
     "metadata": {},
     "output_type": "execute_result"
    }
   ],
   "source": [
    "set(rounds2.company_permalink).difference(set(companies.permalink))#companies that are in rounds2 dataframe but not in companies dataframe"
   ]
  },
  {
   "cell_type": "code",
   "execution_count": 23,
   "metadata": {},
   "outputs": [
    {
     "data": {
      "text/plain": [
       "set()"
      ]
     },
     "execution_count": 23,
     "metadata": {},
     "output_type": "execute_result"
    }
   ],
   "source": [
    "set(companies.permalink).difference(set(rounds2.company_permalink))#companies that are in companies dataframe but not in rounds2 dataframe"
   ]
  },
  {
   "cell_type": "markdown",
   "metadata": {},
   "source": [
    "### Table 1.1: \n",
    "### 5. Merge the two data frames so that all  variables (columns)  in the companies frame are added to the rounds2 data frame. Name the merged frame master_frame. How many observations are present in master_frame ?<br>\n",
    "114949 rows in the merge.\n"
   ]
  },
  {
   "cell_type": "code",
   "execution_count": 24,
   "metadata": {},
   "outputs": [
    {
     "data": {
      "text/plain": [
       "(114949, 16)"
      ]
     },
     "execution_count": 24,
     "metadata": {},
     "output_type": "execute_result"
    }
   ],
   "source": [
    "#performing inner merge to include only those companies that are common in both\n",
    "#help(pd.DataFrame.merge)\n",
    "master_frame=rounds2.merge(companies, left_on='company_permalink', right_on='permalink', how='inner')\n",
    "#master_frame.head()\n",
    "master_frame.shape"
   ]
  },
  {
   "cell_type": "markdown",
   "metadata": {},
   "source": [
    "# ------------------End of Checkpoint 1: Data Cleaning 1---------------------------  "
   ]
  },
  {
   "cell_type": "markdown",
   "metadata": {},
   "source": [
    "# ------------------Checkpoint 2: Funding Type Analysis-----------------------"
   ]
  },
  {
   "cell_type": "code",
   "execution_count": 25,
   "metadata": {},
   "outputs": [
    {
     "name": "stdout",
     "output_type": "stream",
     "text": [
      "0     10000000.0\n",
      "1            NaN\n",
      "2       700000.0\n",
      "3      3406878.0\n",
      "4      2000000.0\n",
      "5            NaN\n",
      "6        41250.0\n",
      "7        43360.0\n",
      "8       719491.0\n",
      "9      3000000.0\n",
      "10    20000000.0\n",
      "11     1700000.0\n",
      "12     8900000.0\n",
      "13      150000.0\n",
      "14           NaN\n",
      "15     1000050.0\n",
      "16       40000.0\n",
      "17           NaN\n",
      "18           NaN\n",
      "19           NaN\n",
      "Name: raised_amount_usd, dtype: float64\n",
      "venture                  55494\n",
      "seed                     30524\n",
      "debt_financing            6895\n",
      "angel                     6094\n",
      "undisclosed               4897\n",
      "equity_crowdfunding       3257\n",
      "private_equity            2285\n",
      "grant                     2200\n",
      "convertible_note          1817\n",
      "post_ipo_equity            638\n",
      "product_crowdfunding       410\n",
      "non_equity_assistance      191\n",
      "post_ipo_debt              152\n",
      "secondary_market            95\n",
      "Name: funding_round_type, dtype: int64\n"
     ]
    }
   ],
   "source": [
    "print(master_frame.raised_amount_usd.head(20))#quickly checking first 20 fund amounts, seems like lot of entries are missing\n",
    "print(master_frame.funding_round_type.value_counts())#checking the number of entries for each type of funding rounds available\n",
    "\n",
    "#print(master_frame.loc[master_frame.raised_amount_usd.isnull()].funding_round_type.value_counts())#checking the number of entries for each type of funding rounds available for amount raised=null\n",
    "#print(master_frame.loc[master_frame.raised_amount_usd.notnull()].funding_round_type.value_counts())#checking the number of entries for each type of funding rounds available for amount raised!=null"
   ]
  },
  {
   "cell_type": "code",
   "execution_count": 26,
   "metadata": {},
   "outputs": [
    {
     "name": "stdout",
     "output_type": "stream",
     "text": [
      "       raised_amount_usd\n",
      "count       9.495900e+04\n",
      "mean        1.042687e+07\n",
      "std         1.148212e+08\n",
      "min         0.000000e+00\n",
      "25%         3.225000e+05\n",
      "50%         1.680511e+06\n",
      "75%         7.000000e+06\n",
      "max         2.127194e+10\n",
      "(114949, 16)\n"
     ]
    }
   ],
   "source": [
    "print(master_frame.describe())#trying to see the overall distribution\n",
    "print(master_frame.shape)\n",
    "#last quartile has huge spike\n",
    "#also there is  huge discrepancy between mean and median\n",
    "#master_frame.loc[master_frame.raised_amount_usd.notnull()].raised_amount_usd.describe()#seems like describe is already not considering NaN when measuring statistics, so we dont need to do explicitly\n",
    "#based on above observations(missing fund amounts and existence of outliers), it's better to decide what to do with missing values based on how many there are"
   ]
  },
  {
   "cell_type": "code",
   "execution_count": 27,
   "metadata": {},
   "outputs": [
    {
     "name": "stdout",
     "output_type": "stream",
     "text": [
      "19990\n",
      "415\n"
     ]
    },
    {
     "data": {
      "text/plain": [
       "94544"
      ]
     },
     "execution_count": 27,
     "metadata": {},
     "output_type": "execute_result"
    }
   ],
   "source": [
    "#number of rows where raised_amount_usd is missing or NULL\n",
    "print(master_frame.loc[master_frame.raised_amount_usd.isnull()].raised_amount_usd.size)\n",
    "#number of rows where raised_amount_usd is 0\n",
    "print(master_frame.loc[master_frame.raised_amount_usd==0].raised_amount_usd.size)\n",
    "#We will drop both rows with raised_amount_usd-NaN(because these are not useful for metrics anyway) and raised_amount_usd=0(because 0 USD funding doesnt make any sense)\n",
    "master_frame=master_frame.loc[(master_frame.raised_amount_usd.notnull())&(master_frame.raised_amount_usd!=0)]\n",
    "master_frame.raised_amount_usd.size"
   ]
  },
  {
   "cell_type": "markdown",
   "metadata": {},
   "source": [
    "#### Checking the distribution of venture funds"
   ]
  },
  {
   "cell_type": "code",
   "execution_count": 28,
   "metadata": {},
   "outputs": [
    {
     "data": {
      "text/html": [
       "<div>\n",
       "<style scoped>\n",
       "    .dataframe tbody tr th:only-of-type {\n",
       "        vertical-align: middle;\n",
       "    }\n",
       "\n",
       "    .dataframe tbody tr th {\n",
       "        vertical-align: top;\n",
       "    }\n",
       "\n",
       "    .dataframe thead th {\n",
       "        text-align: right;\n",
       "    }\n",
       "</style>\n",
       "<table border=\"1\" class=\"dataframe\">\n",
       "  <thead>\n",
       "    <tr style=\"text-align: right;\">\n",
       "      <th></th>\n",
       "      <th>raised_amount_usd</th>\n",
       "    </tr>\n",
       "  </thead>\n",
       "  <tbody>\n",
       "    <tr>\n",
       "      <th>count</th>\n",
       "      <td>5.019900e+04</td>\n",
       "    </tr>\n",
       "    <tr>\n",
       "      <th>mean</th>\n",
       "      <td>1.175574e+07</td>\n",
       "    </tr>\n",
       "    <tr>\n",
       "      <th>std</th>\n",
       "      <td>8.637654e+07</td>\n",
       "    </tr>\n",
       "    <tr>\n",
       "      <th>min</th>\n",
       "      <td>1.000000e+00</td>\n",
       "    </tr>\n",
       "    <tr>\n",
       "      <th>25%</th>\n",
       "      <td>1.610000e+06</td>\n",
       "    </tr>\n",
       "    <tr>\n",
       "      <th>50%</th>\n",
       "      <td>5.000000e+06</td>\n",
       "    </tr>\n",
       "    <tr>\n",
       "      <th>75%</th>\n",
       "      <td>1.200000e+07</td>\n",
       "    </tr>\n",
       "    <tr>\n",
       "      <th>max</th>\n",
       "      <td>1.760000e+10</td>\n",
       "    </tr>\n",
       "  </tbody>\n",
       "</table>\n",
       "</div>"
      ],
      "text/plain": [
       "       raised_amount_usd\n",
       "count       5.019900e+04\n",
       "mean        1.175574e+07\n",
       "std         8.637654e+07\n",
       "min         1.000000e+00\n",
       "25%         1.610000e+06\n",
       "50%         5.000000e+06\n",
       "75%         1.200000e+07\n",
       "max         1.760000e+10"
      ]
     },
     "execution_count": 28,
     "metadata": {},
     "output_type": "execute_result"
    }
   ],
   "source": [
    "master_frame.loc[(master_frame.funding_round_type=='venture')].describe()#seems like last quartile values are much bigger than remaining quartiles\n",
    "#there is a huge discrepancy between mean and median, so we will not try to impute any missing values, instead, we ignore them"
   ]
  },
  {
   "cell_type": "code",
   "execution_count": 29,
   "metadata": {},
   "outputs": [
    {
     "data": {
      "text/plain": [
       "<Figure size 640x480 with 1 Axes>"
      ]
     },
     "metadata": {},
     "output_type": "display_data"
    }
   ],
   "source": [
    "import matplotlib.pyplot as plt#importing matplotlib to help display plots\n",
    "#box plotting raised amount for venture type funding\n",
    "master_frame.loc[(master_frame.funding_round_type=='venture')].raised_amount_usd.plot.box()\n",
    "plt.show()#plot clearly shows massive outliers"
   ]
  },
  {
   "cell_type": "markdown",
   "metadata": {},
   "source": [
    "### Table 2.1: \n",
    "### 1. Representative funding amount of venture type<br>\n",
    "We will take median as Representative amount for venture type because there is a 2 factor difference between mean and median. Also there seems to be outliers since the last quartile is much bigger than others.\n",
    "Median = 5Mil USD or 5000000 USD\n",
    "<br>Alternate code below:"
   ]
  },
  {
   "cell_type": "code",
   "execution_count": 30,
   "metadata": {},
   "outputs": [
    {
     "data": {
      "text/plain": [
       "5000000.0"
      ]
     },
     "execution_count": 30,
     "metadata": {},
     "output_type": "execute_result"
    }
   ],
   "source": [
    "venture_rep=master_frame.loc[(master_frame.funding_round_type=='venture')].raised_amount_usd.median()\n",
    "venture_rep#this variable can be used for plotting later as the master_frame will loose few rows after merging with mapping"
   ]
  },
  {
   "cell_type": "markdown",
   "metadata": {},
   "source": [
    "#### Checking the distribution of angel funds"
   ]
  },
  {
   "cell_type": "code",
   "execution_count": 31,
   "metadata": {},
   "outputs": [
    {
     "data": {
      "text/html": [
       "<div>\n",
       "<style scoped>\n",
       "    .dataframe tbody tr th:only-of-type {\n",
       "        vertical-align: middle;\n",
       "    }\n",
       "\n",
       "    .dataframe tbody tr th {\n",
       "        vertical-align: top;\n",
       "    }\n",
       "\n",
       "    .dataframe thead th {\n",
       "        text-align: right;\n",
       "    }\n",
       "</style>\n",
       "<table border=\"1\" class=\"dataframe\">\n",
       "  <thead>\n",
       "    <tr style=\"text-align: right;\">\n",
       "      <th></th>\n",
       "      <th>raised_amount_usd</th>\n",
       "    </tr>\n",
       "  </thead>\n",
       "  <tbody>\n",
       "    <tr>\n",
       "      <th>count</th>\n",
       "      <td>4.829000e+03</td>\n",
       "    </tr>\n",
       "    <tr>\n",
       "      <th>mean</th>\n",
       "      <td>9.648489e+05</td>\n",
       "    </tr>\n",
       "    <tr>\n",
       "      <th>std</th>\n",
       "      <td>7.427731e+06</td>\n",
       "    </tr>\n",
       "    <tr>\n",
       "      <th>min</th>\n",
       "      <td>1.200000e+01</td>\n",
       "    </tr>\n",
       "    <tr>\n",
       "      <th>25%</th>\n",
       "      <td>1.500000e+05</td>\n",
       "    </tr>\n",
       "    <tr>\n",
       "      <th>50%</th>\n",
       "      <td>4.000000e+05</td>\n",
       "    </tr>\n",
       "    <tr>\n",
       "      <th>75%</th>\n",
       "      <td>1.000000e+06</td>\n",
       "    </tr>\n",
       "    <tr>\n",
       "      <th>max</th>\n",
       "      <td>4.945120e+08</td>\n",
       "    </tr>\n",
       "  </tbody>\n",
       "</table>\n",
       "</div>"
      ],
      "text/plain": [
       "       raised_amount_usd\n",
       "count       4.829000e+03\n",
       "mean        9.648489e+05\n",
       "std         7.427731e+06\n",
       "min         1.200000e+01\n",
       "25%         1.500000e+05\n",
       "50%         4.000000e+05\n",
       "75%         1.000000e+06\n",
       "max         4.945120e+08"
      ]
     },
     "execution_count": 31,
     "metadata": {},
     "output_type": "execute_result"
    }
   ],
   "source": [
    "master_frame.loc[(master_frame.funding_round_type=='angel')].describe()#seems like last quartile values are much bigger than remaining quartiles\n",
    "#there is a huge discrepancy between mean and median, so we will not try to impute any missing values, instead, we ignore them"
   ]
  },
  {
   "cell_type": "code",
   "execution_count": 32,
   "metadata": {},
   "outputs": [
    {
     "data": {
      "image/png": "[encoded data removed]",
      "text/plain": [
       "<Figure size 432x288 with 1 Axes>"
      ]
     },
     "metadata": {},
     "output_type": "display_data"
    }
   ],
   "source": [
    "import matplotlib.pyplot as plt#importing matplotlib to help display plots\n",
    "#box plotting raised amount for angel type funding\n",
    "master_frame.loc[(master_frame.funding_round_type=='angel')].raised_amount_usd.plot.box()\n",
    "plt.show()#plot clearly shows massive outliers"
   ]
  },
  {
   "cell_type": "markdown",
   "metadata": {},
   "source": [
    "### Table 2.1: \n",
    "### 2. Representative funding amount of angel type<br>\n",
    "We will take median as Representative amount for angel type because there is a big difference between mean and median. Also there seems to be outliers since the last quartile is much bigger than others.\n",
    "Median = 400000 USD\n",
    "<br>Alternate code below:"
   ]
  },
  {
   "cell_type": "code",
   "execution_count": 33,
   "metadata": {},
   "outputs": [
    {
     "data": {
      "text/plain": [
       "400000.0"
      ]
     },
     "execution_count": 33,
     "metadata": {},
     "output_type": "execute_result"
    }
   ],
   "source": [
    "angel_rep=master_frame.loc[(master_frame.funding_round_type=='angel')].raised_amount_usd.median()\n",
    "angel_rep##this variable can be used for plotting later as the master_frame will loose few rows after merging with mapping"
   ]
  },
  {
   "cell_type": "markdown",
   "metadata": {},
   "source": [
    "#### Checking the distribution of seed funds"
   ]
  },
  {
   "cell_type": "code",
   "execution_count": 34,
   "metadata": {},
   "outputs": [
    {
     "data": {
      "text/html": [
       "<div>\n",
       "<style scoped>\n",
       "    .dataframe tbody tr th:only-of-type {\n",
       "        vertical-align: middle;\n",
       "    }\n",
       "\n",
       "    .dataframe tbody tr th {\n",
       "        vertical-align: top;\n",
       "    }\n",
       "\n",
       "    .dataframe thead th {\n",
       "        text-align: right;\n",
       "    }\n",
       "</style>\n",
       "<table border=\"1\" class=\"dataframe\">\n",
       "  <thead>\n",
       "    <tr style=\"text-align: right;\">\n",
       "      <th></th>\n",
       "      <th>raised_amount_usd</th>\n",
       "    </tr>\n",
       "  </thead>\n",
       "  <tbody>\n",
       "    <tr>\n",
       "      <th>count</th>\n",
       "      <td>2.350800e+04</td>\n",
       "    </tr>\n",
       "    <tr>\n",
       "      <th>mean</th>\n",
       "      <td>7.227269e+05</td>\n",
       "    </tr>\n",
       "    <tr>\n",
       "      <th>std</th>\n",
       "      <td>2.225745e+06</td>\n",
       "    </tr>\n",
       "    <tr>\n",
       "      <th>min</th>\n",
       "      <td>1.000000e+00</td>\n",
       "    </tr>\n",
       "    <tr>\n",
       "      <th>25%</th>\n",
       "      <td>5.911075e+04</td>\n",
       "    </tr>\n",
       "    <tr>\n",
       "      <th>50%</th>\n",
       "      <td>2.800000e+05</td>\n",
       "    </tr>\n",
       "    <tr>\n",
       "      <th>75%</th>\n",
       "      <td>1.000000e+06</td>\n",
       "    </tr>\n",
       "    <tr>\n",
       "      <th>max</th>\n",
       "      <td>2.000000e+08</td>\n",
       "    </tr>\n",
       "  </tbody>\n",
       "</table>\n",
       "</div>"
      ],
      "text/plain": [
       "       raised_amount_usd\n",
       "count       2.350800e+04\n",
       "mean        7.227269e+05\n",
       "std         2.225745e+06\n",
       "min         1.000000e+00\n",
       "25%         5.911075e+04\n",
       "50%         2.800000e+05\n",
       "75%         1.000000e+06\n",
       "max         2.000000e+08"
      ]
     },
     "execution_count": 34,
     "metadata": {},
     "output_type": "execute_result"
    }
   ],
   "source": [
    "master_frame.loc[(master_frame.funding_round_type=='seed')].describe()#seems like last quartile values are much bigger than remaining quartiles\n",
    "#there is a huge discrepancy between mean and median, so we will not try to impute any missing values, instead, we ignore them"
   ]
  },
  {
   "cell_type": "code",
   "execution_count": 35,
   "metadata": {},
   "outputs": [
    {
     "data": {
      "image/png": "[encoded data removed]",
      "text/plain": [
       "<Figure size 432x288 with 1 Axes>"
      ]
     },
     "metadata": {},
     "output_type": "display_data"
    }
   ],
   "source": [
    "import matplotlib.pyplot as plt#importing matplotlib to help display plots\n",
    "#box plotting raised amount for seed type funding\n",
    "master_frame.loc[(master_frame.funding_round_type=='seed')].raised_amount_usd.plot.box()\n",
    "plt.show()#plot clearly shows massive outliers"
   ]
  },
  {
   "cell_type": "markdown",
   "metadata": {},
   "source": [
    "### Table 2.1: \n",
    "### 3. Representative funding amount of seed type<br>\n",
    "We will take median as Representative amount for seed type because there is a big difference between mean and median. Also there seems to be outliers since the last quartile is much bigger than others.\n",
    "Median = 280000 USD\n",
    "<br>Alternate code below:"
   ]
  },
  {
   "cell_type": "code",
   "execution_count": 36,
   "metadata": {},
   "outputs": [
    {
     "data": {
      "text/plain": [
       "280000.0"
      ]
     },
     "execution_count": 36,
     "metadata": {},
     "output_type": "execute_result"
    }
   ],
   "source": [
    "seed_rep=master_frame.loc[(master_frame.funding_round_type=='seed')].raised_amount_usd.median()\n",
    "seed_rep#this variable can be used for plotting later as the master_frame will loose few rows after merging with mapping"
   ]
  },
  {
   "cell_type": "markdown",
   "metadata": {},
   "source": [
    "#### Checking the distribution of private equity funds"
   ]
  },
  {
   "cell_type": "code",
   "execution_count": 37,
   "metadata": {
    "scrolled": true
   },
   "outputs": [
    {
     "data": {
      "text/html": [
       "<div>\n",
       "<style scoped>\n",
       "    .dataframe tbody tr th:only-of-type {\n",
       "        vertical-align: middle;\n",
       "    }\n",
       "\n",
       "    .dataframe tbody tr th {\n",
       "        vertical-align: top;\n",
       "    }\n",
       "\n",
       "    .dataframe thead th {\n",
       "        text-align: right;\n",
       "    }\n",
       "</style>\n",
       "<table border=\"1\" class=\"dataframe\">\n",
       "  <thead>\n",
       "    <tr style=\"text-align: right;\">\n",
       "      <th></th>\n",
       "      <th>raised_amount_usd</th>\n",
       "    </tr>\n",
       "  </thead>\n",
       "  <tbody>\n",
       "    <tr>\n",
       "      <th>count</th>\n",
       "      <td>1.933000e+03</td>\n",
       "    </tr>\n",
       "    <tr>\n",
       "      <th>mean</th>\n",
       "      <td>7.342237e+07</td>\n",
       "    </tr>\n",
       "    <tr>\n",
       "      <th>std</th>\n",
       "      <td>1.982461e+08</td>\n",
       "    </tr>\n",
       "    <tr>\n",
       "      <th>min</th>\n",
       "      <td>6.000000e+00</td>\n",
       "    </tr>\n",
       "    <tr>\n",
       "      <th>25%</th>\n",
       "      <td>5.000000e+06</td>\n",
       "    </tr>\n",
       "    <tr>\n",
       "      <th>50%</th>\n",
       "      <td>2.000000e+07</td>\n",
       "    </tr>\n",
       "    <tr>\n",
       "      <th>75%</th>\n",
       "      <td>7.500000e+07</td>\n",
       "    </tr>\n",
       "    <tr>\n",
       "      <th>max</th>\n",
       "      <td>4.745460e+09</td>\n",
       "    </tr>\n",
       "  </tbody>\n",
       "</table>\n",
       "</div>"
      ],
      "text/plain": [
       "       raised_amount_usd\n",
       "count       1.933000e+03\n",
       "mean        7.342237e+07\n",
       "std         1.982461e+08\n",
       "min         6.000000e+00\n",
       "25%         5.000000e+06\n",
       "50%         2.000000e+07\n",
       "75%         7.500000e+07\n",
       "max         4.745460e+09"
      ]
     },
     "execution_count": 37,
     "metadata": {},
     "output_type": "execute_result"
    }
   ],
   "source": [
    "master_frame.loc[(master_frame.funding_round_type=='private_equity')].describe()#seems like last quartile values are much bigger than remaining quartiles\n",
    "#there is a huge discrepancy between mean and median, so we will not try to impute any missing values, instead, we ignore them"
   ]
  },
  {
   "cell_type": "code",
   "execution_count": 38,
   "metadata": {},
   "outputs": [
    {
     "data": {
      "image/png": "[encoded data removed]",
      "text/plain": [
       "<Figure size 432x288 with 1 Axes>"
      ]
     },
     "metadata": {},
     "output_type": "display_data"
    }
   ],
   "source": [
    "import matplotlib.pyplot as plt#importing matplotlib to help display plots\n",
    "#box plotting raised amount for private equity type funding\n",
    "master_frame.loc[(master_frame.funding_round_type=='private_equity')].raised_amount_usd.plot.box()\n",
    "plt.show()#plot clearly shows massive outliers"
   ]
  },
  {
   "cell_type": "markdown",
   "metadata": {},
   "source": [
    "### Table 2.1: \n",
    "### 4. Representative funding amount of private equity type<br>\n",
    "We will take median as Representative amount for private equity type because there is a big difference between mean and median. Also there seems to be outliers since the last quartile is much bigger than others.\n",
    "Median = 20Mil USD or 20000000 USD\n",
    "<br>Alternate code below:"
   ]
  },
  {
   "cell_type": "code",
   "execution_count": 39,
   "metadata": {},
   "outputs": [
    {
     "data": {
      "text/plain": [
       "20000000.0"
      ]
     },
     "execution_count": 39,
     "metadata": {},
     "output_type": "execute_result"
    }
   ],
   "source": [
    "private_equity_rep=master_frame.loc[(master_frame.funding_round_type=='private_equity')].raised_amount_usd.median()\n",
    "private_equity_rep#this variable can be used for plotting later as the master_frame will loose few rows after merging with mapping"
   ]
  },
  {
   "cell_type": "markdown",
   "metadata": {},
   "source": [
    "### Table 2.1: \n",
    "### 5. Considering that Spark Funds wants to invest between 5 to 15 million USD per  investment round, which investment type is the most suitable for them?<br>\n",
    "Comparing the representative funding amount for 4 types of investments, only <ins>venture type</ins> has both it's mean and median in the 5 to 15 million USD range. So Venture type is most suitable for them."
   ]
  },
  {
   "cell_type": "markdown",
   "metadata": {},
   "source": [
    "# ------------------End of Checkpoint 2: Funding Type Analysis-----------------------"
   ]
  },
  {
   "cell_type": "markdown",
   "metadata": {},
   "source": [
    "# ------------------Checkpoint 3: Country Analysis-----------------------"
   ]
  },
  {
   "cell_type": "code",
   "execution_count": 40,
   "metadata": {},
   "outputs": [
    {
     "data": {
      "text/html": [
       "<div>\n",
       "<style scoped>\n",
       "    .dataframe tbody tr th:only-of-type {\n",
       "        vertical-align: middle;\n",
       "    }\n",
       "\n",
       "    .dataframe tbody tr th {\n",
       "        vertical-align: top;\n",
       "    }\n",
       "\n",
       "    .dataframe thead th {\n",
       "        text-align: right;\n",
       "    }\n",
       "</style>\n",
       "<table border=\"1\" class=\"dataframe\">\n",
       "  <thead>\n",
       "    <tr style=\"text-align: right;\">\n",
       "      <th></th>\n",
       "      <th>raised_amount_usd</th>\n",
       "    </tr>\n",
       "    <tr>\n",
       "      <th>country_code</th>\n",
       "      <th></th>\n",
       "    </tr>\n",
       "  </thead>\n",
       "  <tbody>\n",
       "    <tr>\n",
       "      <th>USA</th>\n",
       "      <td>4.225108e+11</td>\n",
       "    </tr>\n",
       "    <tr>\n",
       "      <th>CHN</th>\n",
       "      <td>3.983542e+10</td>\n",
       "    </tr>\n",
       "    <tr>\n",
       "      <th>GBR</th>\n",
       "      <td>2.024563e+10</td>\n",
       "    </tr>\n",
       "    <tr>\n",
       "      <th>IND</th>\n",
       "      <td>1.439186e+10</td>\n",
       "    </tr>\n",
       "    <tr>\n",
       "      <th>CAN</th>\n",
       "      <td>9.583332e+09</td>\n",
       "    </tr>\n",
       "    <tr>\n",
       "      <th>FRA</th>\n",
       "      <td>7.259537e+09</td>\n",
       "    </tr>\n",
       "    <tr>\n",
       "      <th>ISR</th>\n",
       "      <td>6.907515e+09</td>\n",
       "    </tr>\n",
       "    <tr>\n",
       "      <th>DEU</th>\n",
       "      <td>6.346960e+09</td>\n",
       "    </tr>\n",
       "    <tr>\n",
       "      <th>JPN</th>\n",
       "      <td>3.363677e+09</td>\n",
       "    </tr>\n",
       "  </tbody>\n",
       "</table>\n",
       "</div>"
      ],
      "text/plain": [
       "              raised_amount_usd\n",
       "country_code                   \n",
       "USA                4.225108e+11\n",
       "CHN                3.983542e+10\n",
       "GBR                2.024563e+10\n",
       "IND                1.439186e+10\n",
       "CAN                9.583332e+09\n",
       "FRA                7.259537e+09\n",
       "ISR                6.907515e+09\n",
       "DEU                6.346960e+09\n",
       "JPN                3.363677e+09"
      ]
     },
     "execution_count": 40,
     "metadata": {},
     "output_type": "execute_result"
    }
   ],
   "source": [
    "#creating a dataframe named top9 that contains only venture funding type\n",
    "import numpy as np\n",
    "#first creating a subset of master_frame with funding type=venture\n",
    "top9 = master_frame.loc[master_frame.funding_round_type=='venture']\n",
    "#reorganising by summing total raised amount for each country\n",
    "top9=top9.pivot_table(values='raised_amount_usd', index='country_code', aggfunc=np.sum)\n",
    "#sorting based on the amount of funding\n",
    "top9.sort_values(by='raised_amount_usd',ascending=False,inplace=True)\n",
    "#slicing to retain only top9 countries\n",
    "top9=top9.iloc[:9]\n",
    "top9"
   ]
  },
  {
   "cell_type": "markdown",
   "metadata": {},
   "source": [
    "### Table 3.1: \n",
    "### 1. Top English speaking country<br>\n",
    "It's USA as seen from the table"
   ]
  },
  {
   "cell_type": "markdown",
   "metadata": {},
   "source": [
    "### Table 3.1: \n",
    "### 2. Second English speaking country<br>\n",
    "It's GBR as CHN doesnt have english as official language"
   ]
  },
  {
   "cell_type": "markdown",
   "metadata": {},
   "source": [
    "### Table 3.1: \n",
    "### 3. Third English speaking country<br>\n",
    "It's IND as as it comes after GBR and english is one of its official language"
   ]
  },
  {
   "cell_type": "markdown",
   "metadata": {},
   "source": [
    "# ------------------End of Checkpoint 3: Country Analysis-----------------------"
   ]
  },
  {
   "cell_type": "markdown",
   "metadata": {},
   "source": [
    "# ------------------Checkpoint 4: Sector Analysis 1-----------------------"
   ]
  },
  {
   "cell_type": "code",
   "execution_count": 41,
   "metadata": {},
   "outputs": [
    {
     "data": {
      "text/html": [
       "<div>\n",
       "<style scoped>\n",
       "    .dataframe tbody tr th:only-of-type {\n",
       "        vertical-align: middle;\n",
       "    }\n",
       "\n",
       "    .dataframe tbody tr th {\n",
       "        vertical-align: top;\n",
       "    }\n",
       "\n",
       "    .dataframe thead th {\n",
       "        text-align: right;\n",
       "    }\n",
       "</style>\n",
       "<table border=\"1\" class=\"dataframe\">\n",
       "  <thead>\n",
       "    <tr style=\"text-align: right;\">\n",
       "      <th></th>\n",
       "      <th>category_list</th>\n",
       "      <th>Automotive &amp; Sports</th>\n",
       "      <th>Blanks</th>\n",
       "      <th>Cleantech / Semiconductors</th>\n",
       "      <th>Entertainment</th>\n",
       "      <th>Health</th>\n",
       "      <th>Manufacturing</th>\n",
       "      <th>News, Search and Messaging</th>\n",
       "      <th>Others</th>\n",
       "      <th>Social, Finance, Analytics, Advertising</th>\n",
       "    </tr>\n",
       "  </thead>\n",
       "  <tbody>\n",
       "    <tr>\n",
       "      <th>0</th>\n",
       "      <td>NaN</td>\n",
       "      <td>0</td>\n",
       "      <td>1</td>\n",
       "      <td>0</td>\n",
       "      <td>0</td>\n",
       "      <td>0</td>\n",
       "      <td>0</td>\n",
       "      <td>0</td>\n",
       "      <td>0</td>\n",
       "      <td>0</td>\n",
       "    </tr>\n",
       "    <tr>\n",
       "      <th>1</th>\n",
       "      <td>3D</td>\n",
       "      <td>0</td>\n",
       "      <td>0</td>\n",
       "      <td>0</td>\n",
       "      <td>0</td>\n",
       "      <td>0</td>\n",
       "      <td>1</td>\n",
       "      <td>0</td>\n",
       "      <td>0</td>\n",
       "      <td>0</td>\n",
       "    </tr>\n",
       "    <tr>\n",
       "      <th>2</th>\n",
       "      <td>3D Printing</td>\n",
       "      <td>0</td>\n",
       "      <td>0</td>\n",
       "      <td>0</td>\n",
       "      <td>0</td>\n",
       "      <td>0</td>\n",
       "      <td>1</td>\n",
       "      <td>0</td>\n",
       "      <td>0</td>\n",
       "      <td>0</td>\n",
       "    </tr>\n",
       "    <tr>\n",
       "      <th>3</th>\n",
       "      <td>3D Technology</td>\n",
       "      <td>0</td>\n",
       "      <td>0</td>\n",
       "      <td>0</td>\n",
       "      <td>0</td>\n",
       "      <td>0</td>\n",
       "      <td>1</td>\n",
       "      <td>0</td>\n",
       "      <td>0</td>\n",
       "      <td>0</td>\n",
       "    </tr>\n",
       "    <tr>\n",
       "      <th>4</th>\n",
       "      <td>Accounting</td>\n",
       "      <td>0</td>\n",
       "      <td>0</td>\n",
       "      <td>0</td>\n",
       "      <td>0</td>\n",
       "      <td>0</td>\n",
       "      <td>0</td>\n",
       "      <td>0</td>\n",
       "      <td>0</td>\n",
       "      <td>1</td>\n",
       "    </tr>\n",
       "  </tbody>\n",
       "</table>\n",
       "</div>"
      ],
      "text/plain": [
       "   category_list  Automotive & Sports  Blanks  Cleantech / Semiconductors  \\\n",
       "0            NaN                    0       1                           0   \n",
       "1             3D                    0       0                           0   \n",
       "2    3D Printing                    0       0                           0   \n",
       "3  3D Technology                    0       0                           0   \n",
       "4     Accounting                    0       0                           0   \n",
       "\n",
       "   Entertainment  Health  Manufacturing  News, Search and Messaging  Others  \\\n",
       "0              0       0              0                           0       0   \n",
       "1              0       0              1                           0       0   \n",
       "2              0       0              1                           0       0   \n",
       "3              0       0              1                           0       0   \n",
       "4              0       0              0                           0       0   \n",
       "\n",
       "   Social, Finance, Analytics, Advertising  \n",
       "0                                        0  \n",
       "1                                        0  \n",
       "2                                        0  \n",
       "3                                        0  \n",
       "4                                        1  "
      ]
     },
     "execution_count": 41,
     "metadata": {},
     "output_type": "execute_result"
    }
   ],
   "source": [
    "#mapping = pd.read_csv(\"mapping.csv\", encoding = \"palmos\")\n",
    "mapping = pd.read_csv(\"mapping.csv\", encoding = \"ISO-8859-1\")\n",
    "mapping.head()\n"
   ]
  },
  {
   "cell_type": "code",
   "execution_count": 42,
   "metadata": {},
   "outputs": [
    {
     "data": {
      "text/plain": [
       "(688, 10)"
      ]
     },
     "execution_count": 42,
     "metadata": {},
     "output_type": "execute_result"
    }
   ],
   "source": [
    "mapping.shape"
   ]
  },
  {
   "cell_type": "code",
   "execution_count": 43,
   "metadata": {},
   "outputs": [
    {
     "name": "stdout",
     "output_type": "stream",
     "text": [
      "(94544, 16)\n"
     ]
    },
    {
     "data": {
      "text/html": [
       "<div>\n",
       "<style scoped>\n",
       "    .dataframe tbody tr th:only-of-type {\n",
       "        vertical-align: middle;\n",
       "    }\n",
       "\n",
       "    .dataframe tbody tr th {\n",
       "        vertical-align: top;\n",
       "    }\n",
       "\n",
       "    .dataframe thead th {\n",
       "        text-align: right;\n",
       "    }\n",
       "</style>\n",
       "<table border=\"1\" class=\"dataframe\">\n",
       "  <thead>\n",
       "    <tr style=\"text-align: right;\">\n",
       "      <th></th>\n",
       "      <th>company_permalink</th>\n",
       "      <th>funding_round_permalink</th>\n",
       "      <th>funding_round_type</th>\n",
       "      <th>funding_round_code</th>\n",
       "      <th>funded_at</th>\n",
       "      <th>raised_amount_usd</th>\n",
       "      <th>permalink</th>\n",
       "      <th>name</th>\n",
       "      <th>homepage_url</th>\n",
       "      <th>category_list</th>\n",
       "      <th>status</th>\n",
       "      <th>country_code</th>\n",
       "      <th>state_code</th>\n",
       "      <th>region</th>\n",
       "      <th>city</th>\n",
       "      <th>founded_at</th>\n",
       "    </tr>\n",
       "  </thead>\n",
       "  <tbody>\n",
       "    <tr>\n",
       "      <th>0</th>\n",
       "      <td>/organization/-fame</td>\n",
       "      <td>/funding-round/9a01d05418af9f794eebff7ace91f638</td>\n",
       "      <td>venture</td>\n",
       "      <td>B</td>\n",
       "      <td>05-01-2015</td>\n",
       "      <td>10000000.0</td>\n",
       "      <td>/organization/-fame</td>\n",
       "      <td>#fame</td>\n",
       "      <td>http://livfame.com</td>\n",
       "      <td>Media</td>\n",
       "      <td>operating</td>\n",
       "      <td>IND</td>\n",
       "      <td>16</td>\n",
       "      <td>Mumbai</td>\n",
       "      <td>Mumbai</td>\n",
       "      <td>NaN</td>\n",
       "    </tr>\n",
       "    <tr>\n",
       "      <th>2</th>\n",
       "      <td>/organization/-qounter</td>\n",
       "      <td>/funding-round/b44fbb94153f6cdef13083530bb48030</td>\n",
       "      <td>seed</td>\n",
       "      <td>NaN</td>\n",
       "      <td>01-03-2014</td>\n",
       "      <td>700000.0</td>\n",
       "      <td>/organization/-qounter</td>\n",
       "      <td>:Qounter</td>\n",
       "      <td>http://www.qounter.com</td>\n",
       "      <td>Application Platforms|Real Time|Social Network...</td>\n",
       "      <td>operating</td>\n",
       "      <td>USA</td>\n",
       "      <td>DE</td>\n",
       "      <td>DE - Other</td>\n",
       "      <td>Delaware City</td>\n",
       "      <td>04-09-2014</td>\n",
       "    </tr>\n",
       "    <tr>\n",
       "      <th>3</th>\n",
       "      <td>/organization/-the-one-of-them-inc-</td>\n",
       "      <td>/funding-round/650b8f704416801069bb178a1418776b</td>\n",
       "      <td>venture</td>\n",
       "      <td>B</td>\n",
       "      <td>30-01-2014</td>\n",
       "      <td>3406878.0</td>\n",
       "      <td>/organization/-the-one-of-them-inc-</td>\n",
       "      <td>(THE) ONE of THEM,Inc.</td>\n",
       "      <td>http://oneofthem.jp</td>\n",
       "      <td>Apps|Games|Mobile</td>\n",
       "      <td>operating</td>\n",
       "      <td>NaN</td>\n",
       "      <td>NaN</td>\n",
       "      <td>NaN</td>\n",
       "      <td>NaN</td>\n",
       "      <td>NaN</td>\n",
       "    </tr>\n",
       "    <tr>\n",
       "      <th>4</th>\n",
       "      <td>/organization/0-6-com</td>\n",
       "      <td>/funding-round/5727accaeaa57461bd22a9bdd945382d</td>\n",
       "      <td>venture</td>\n",
       "      <td>A</td>\n",
       "      <td>19-03-2008</td>\n",
       "      <td>2000000.0</td>\n",
       "      <td>/organization/0-6-com</td>\n",
       "      <td>0-6.com</td>\n",
       "      <td>http://www.0-6.com</td>\n",
       "      <td>Curated Web</td>\n",
       "      <td>operating</td>\n",
       "      <td>CHN</td>\n",
       "      <td>22</td>\n",
       "      <td>Beijing</td>\n",
       "      <td>Beijing</td>\n",
       "      <td>01-01-2007</td>\n",
       "    </tr>\n",
       "    <tr>\n",
       "      <th>6</th>\n",
       "      <td>/organization/01games-technology</td>\n",
       "      <td>/funding-round/7d53696f2b4f607a2f2a8cbb83d01839</td>\n",
       "      <td>undisclosed</td>\n",
       "      <td>NaN</td>\n",
       "      <td>01-07-2014</td>\n",
       "      <td>41250.0</td>\n",
       "      <td>/organization/01games-technology</td>\n",
       "      <td>01Games Technology</td>\n",
       "      <td>http://www.01games.hk/</td>\n",
       "      <td>Games</td>\n",
       "      <td>operating</td>\n",
       "      <td>HKG</td>\n",
       "      <td>NaN</td>\n",
       "      <td>Hong Kong</td>\n",
       "      <td>Hong Kong</td>\n",
       "      <td>NaN</td>\n",
       "    </tr>\n",
       "  </tbody>\n",
       "</table>\n",
       "</div>"
      ],
      "text/plain": [
       "                     company_permalink  \\\n",
       "0                  /organization/-fame   \n",
       "2               /organization/-qounter   \n",
       "3  /organization/-the-one-of-them-inc-   \n",
       "4                /organization/0-6-com   \n",
       "6     /organization/01games-technology   \n",
       "\n",
       "                           funding_round_permalink funding_round_type  \\\n",
       "0  /funding-round/9a01d05418af9f794eebff7ace91f638            venture   \n",
       "2  /funding-round/b44fbb94153f6cdef13083530bb48030               seed   \n",
       "3  /funding-round/650b8f704416801069bb178a1418776b            venture   \n",
       "4  /funding-round/5727accaeaa57461bd22a9bdd945382d            venture   \n",
       "6  /funding-round/7d53696f2b4f607a2f2a8cbb83d01839        undisclosed   \n",
       "\n",
       "  funding_round_code   funded_at  raised_amount_usd  \\\n",
       "0                  B  05-01-2015         10000000.0   \n",
       "2                NaN  01-03-2014           700000.0   \n",
       "3                  B  30-01-2014          3406878.0   \n",
       "4                  A  19-03-2008          2000000.0   \n",
       "6                NaN  01-07-2014            41250.0   \n",
       "\n",
       "                             permalink                    name  \\\n",
       "0                  /organization/-fame                   #fame   \n",
       "2               /organization/-qounter                :Qounter   \n",
       "3  /organization/-the-one-of-them-inc-  (THE) ONE of THEM,Inc.   \n",
       "4                /organization/0-6-com                 0-6.com   \n",
       "6     /organization/01games-technology      01Games Technology   \n",
       "\n",
       "             homepage_url                                      category_list  \\\n",
       "0      http://livfame.com                                              Media   \n",
       "2  http://www.qounter.com  Application Platforms|Real Time|Social Network...   \n",
       "3     http://oneofthem.jp                                  Apps|Games|Mobile   \n",
       "4      http://www.0-6.com                                        Curated Web   \n",
       "6  http://www.01games.hk/                                              Games   \n",
       "\n",
       "      status country_code state_code      region           city  founded_at  \n",
       "0  operating          IND         16      Mumbai         Mumbai         NaN  \n",
       "2  operating          USA         DE  DE - Other  Delaware City  04-09-2014  \n",
       "3  operating          NaN        NaN         NaN            NaN         NaN  \n",
       "4  operating          CHN         22     Beijing        Beijing  01-01-2007  \n",
       "6  operating          HKG        NaN   Hong Kong      Hong Kong         NaN  "
      ]
     },
     "execution_count": 43,
     "metadata": {},
     "output_type": "execute_result"
    }
   ],
   "source": [
    "print(master_frame.shape)\n",
    "master_frame.head()"
   ]
  },
  {
   "cell_type": "code",
   "execution_count": 44,
   "metadata": {},
   "outputs": [
    {
     "name": "stdout",
     "output_type": "stream",
     "text": [
      "                     company_permalink  \\\n",
      "0                  /organization/-fame   \n",
      "2               /organization/-qounter   \n",
      "3  /organization/-the-one-of-them-inc-   \n",
      "4                /organization/0-6-com   \n",
      "6     /organization/01games-technology   \n",
      "\n",
      "                           funding_round_permalink funding_round_type  \\\n",
      "0  /funding-round/9a01d05418af9f794eebff7ace91f638            venture   \n",
      "2  /funding-round/b44fbb94153f6cdef13083530bb48030               seed   \n",
      "3  /funding-round/650b8f704416801069bb178a1418776b            venture   \n",
      "4  /funding-round/5727accaeaa57461bd22a9bdd945382d            venture   \n",
      "6  /funding-round/7d53696f2b4f607a2f2a8cbb83d01839        undisclosed   \n",
      "\n",
      "  funding_round_code   funded_at  raised_amount_usd  \\\n",
      "0                  B  05-01-2015         10000000.0   \n",
      "2                NaN  01-03-2014           700000.0   \n",
      "3                  B  30-01-2014          3406878.0   \n",
      "4                  A  19-03-2008          2000000.0   \n",
      "6                NaN  01-07-2014            41250.0   \n",
      "\n",
      "                             permalink                    name  \\\n",
      "0                  /organization/-fame                   #fame   \n",
      "2               /organization/-qounter                :Qounter   \n",
      "3  /organization/-the-one-of-them-inc-  (THE) ONE of THEM,Inc.   \n",
      "4                /organization/0-6-com                 0-6.com   \n",
      "6     /organization/01games-technology      01Games Technology   \n",
      "\n",
      "             homepage_url                                      category_list  \\\n",
      "0      http://livfame.com                                              Media   \n",
      "2  http://www.qounter.com  Application Platforms|Real Time|Social Network...   \n",
      "3     http://oneofthem.jp                                  Apps|Games|Mobile   \n",
      "4      http://www.0-6.com                                        Curated Web   \n",
      "6  http://www.01games.hk/                                              Games   \n",
      "\n",
      "      status country_code state_code      region           city  founded_at  \\\n",
      "0  operating          IND         16      Mumbai         Mumbai         NaN   \n",
      "2  operating          USA         DE  DE - Other  Delaware City  04-09-2014   \n",
      "3  operating          NaN        NaN         NaN            NaN         NaN   \n",
      "4  operating          CHN         22     Beijing        Beijing  01-01-2007   \n",
      "6  operating          HKG        NaN   Hong Kong      Hong Kong         NaN   \n",
      "\n",
      "          primary_sector  \n",
      "0                  Media  \n",
      "2  Application Platforms  \n",
      "3                   Apps  \n",
      "4            Curated Web  \n",
      "6                  Games  \n"
     ]
    }
   ],
   "source": [
    "#adding new column to master_frame named primary_sector\n",
    "\n",
    "master_frame['primary_sector']=master_frame.category_list.astype(str).apply(lambda x: x.split(\"|\")[0])\n",
    "print(master_frame.head())\n",
    "\n"
   ]
  },
  {
   "cell_type": "code",
   "execution_count": 45,
   "metadata": {},
   "outputs": [
    {
     "name": "stdout",
     "output_type": "stream",
     "text": [
      "{'Professional Services', 'Spas', 'Skill Gaming', 'Fleet Management', 'Real Estate Investors', 'Social Media Advertising', 'Toys', 'Nightlife', 'Product Search', 'Personal Data', 'Project Management', 'Financial Exchanges', 'Personal Finance', 'Sponsorship', 'China Internet', 'Registrars', 'Identity Management', 'Lingerie', 'Analytics', 'Task Management', 'Promotional', 'Navigation', 'Cause Marketing', 'Predictive Analytics', 'Mobile Emergency&Health', 'Contact Management', 'Intellectual Asset Management', 'Enterprise Hardware', 'Natural Language Processing', 'Mobile Analytics', 'Personal Health', 'Personalization', 'Kinect', 'Knowledge Management', 'Racing', 'Natural Resources', 'Darknet', 'Nanotechnology', 'Adaptive Equipment', 'Investment Management', 'Subscription Businesses', 'Natural Gas Uses', 'Generation Y-Z', 'Digital Rights Management', 'Career Management', 'Rapidly Expanding', 'Swimming', 'Event Management', 'Cannabis', 'Big Data Analytics', 'Document Management', 'Waste Management', 'Finance', 'Supply Chain Management', 'Sex Industry', 'Vacation Rentals', 'Digital Signage', 'IT Management', 'Energy Management', 'Innovation Management', 'Governance', 'Deep Information Technology', 'Biotechnology and Semiconductor', 'Google Glass', 'Internet TV', 'Educational Games', 'Golf Equipment', 'Journalism', 'English-Speaking', 'Testing', 'Finance Technology', 'GreenTech', 'Personal Branding', 'Cloud Management', 'Social Media Management', 'Alternative Medicine', 'Specialty Retail', 'Medical Professionals', 'Retirement', 'Business Analytics', 'Group Email', 'Internet Technology', 'Self Development', 'Professional Networking', 'nan', 'Financial Services', 'Lead Management', 'Risk Management', 'Property Management'}\n",
      "{nan, 'Identity Ma0gement', 'Business A0lytics', 'Supply Chain Ma0gement', 'Intellectual Asset Ma0gement', 'Task Ma0gement', 'Lotteries', 'Medical Professio0ls', 'Perso0l Branding', 'Knowledge Ma0gement', '0tural Language Processing', 'Film Distribution', 'Multi-level Marketing', 'Professio0l Networking', 'Energy Ma0gement', 'Gover0nce', 'Virtual Workforces', 'Lead Ma0gement', '0notechnology', '0tural Resources', 'Digital Sig0ge', 'Predictive A0lytics', 'Fi0ncial Exchanges', 'Career Ma0gement', 'Can0bis', 'Contact Ma0gement', 'Flowers', 'Perso0l Fi0nce', '0vigation', 'Innovation Ma0gement', 'IT Ma0gement', 'Perso0l Data', 'Social Media Ma0gement', 'Event Ma0gement', 'Fleet Ma0gement', 'Document Ma0gement', 'A0lytics', 'Risk Ma0gement', 'Promotio0l', 'Plumbers', 'Fi0nce Technology', 'Fi0nce', 'Pervasive Computing', 'Perso0l Health', 'Fi0ncial Services', 'Social Recruiting', 'Perso0lization', 'Big Data A0lytics', 'Educatio0l Games', 'Cloud Ma0gement', 'Waste Ma0gement', 'Low Bid Auctions', 'Alter0tive Medicine', 'Veteri0ry', 'Property Ma0gement', 'Jour0lism', 'Digital Rights Ma0gement', 'Chi0 Internet', 'Professio0l Services', 'Mobile A0lytics', 'Investment Ma0gement', 'Project Ma0gement'}\n"
     ]
    }
   ],
   "source": [
    "print(set(master_frame.primary_sector).difference(set(mapping.category_list)))#categories that are only in master_frame but not in mapping\n",
    "print(set(mapping.category_list).difference(set(master_frame.primary_sector)))#categories that are only in mapping but not in master_frame\n",
    "\n",
    "#seems like mapping file has \"0\" instead of \"na\" in category_list column\n",
    "#this might have arised during hasty conversion of na to 0\n",
    "#what we can do is correct these errors in mapping file"
   ]
  },
  {
   "cell_type": "code",
   "execution_count": 46,
   "metadata": {},
   "outputs": [
    {
     "name": "stdout",
     "output_type": "stream",
     "text": [
      "{'product search', 'greentech', 'internet tv', 'subscription businesses', 'adaptive equipment', 'retirement', 'internet technology', 'racing', 'testing', 'natural gas uses', 'vacation rentals', 'enterprise hardware', 'skill gaming', 'deep information technology', 'sex industry', 'spas', 'registrars', 'toys', 'sponsorship', 'english-speaking', 'group email', 'self development', 'kinect', 'generation y-z', 'real estate investors', 'darknet', 'mobile emergency&health', 'specialty retail', 'golf equipment', 'biotechnology and semiconductor', 'google glass', 'social media advertising', 'nightlife', 'swimming', 'rapidly expanding', 'cause marketing', 'lingerie'}\n",
      "{'plumbers', 'virtual workforces', 'multi-level marketing', 'pervasive computing', 'veterinary', 'low bid auctions', 'film distribution', 'social recruiting', 'flowers', 'lotteries'}\n"
     ]
    }
   ],
   "source": [
    "#we can correct the mapping file by replacing 0 with na\n",
    "#however, in certain places, there should be 'Na' and in certain places, there should be 'na'\n",
    "#but this could still lead to missing values because merging is case sensitive\n",
    "#so let's turn these into lower case\n",
    "master_frame.primary_sector=master_frame.primary_sector.str.lower()#converting master_frame into lower case\n",
    "mapping.category_list=mapping.category_list.str.lower()#converting mapping into lower case\n",
    "\n",
    "mapping_ex_lst=list(set(mapping.category_list).difference(set(master_frame.primary_sector)))#list of all category_list values that are in mapping but not in master_frame\n",
    "\n",
    "\n",
    "#updating only those mapping.category_list values that are in mapping only\n",
    "mapping.loc[mapping.category_list.isin(mapping_ex_lst),'category_list']=mapping.loc[mapping.category_list.isin(mapping_ex_lst),'category_list'].apply(lambda x: str(x).replace(\"0\",\"na\"))\n",
    "print(set(master_frame.primary_sector).difference(set(mapping.category_list)))#categories that are only in master_frame but not in mapping\n",
    "print(set(mapping.category_list).difference(set(master_frame.primary_sector)))#categories that are only in mapping but not in master_frame\n",
    "\n",
    "#there are still some master_frame.primary_sector values that donot have a correspnding value in mapping.category_list"
   ]
  },
  {
   "cell_type": "code",
   "execution_count": 47,
   "metadata": {},
   "outputs": [],
   "source": [
    "import numpy as np\n",
    "#print(mapping.head())\n",
    "col_nms=mapping.columns.tolist()#list of all columns in mapping\n",
    "\n",
    "sector_index=list(range(len(col_nms)-1))#list of indexes that can be used to indicate all the sectors\n",
    "\n",
    "sector_arr=np.array(mapping.iloc[:,1:])#slicing mapping data frame indicating only sectors and converting it into array\n",
    "\n",
    "category_matrix=sector_arr.dot(np.transpose(np.array(sector_index)))#simple matrix/array that represents the index of the sector for each row\n",
    "\n",
    "category_dframe=pd.DataFrame(category_matrix)#converted category matrix to dataframe of one column\n",
    "\n",
    "#print(dframe.shape)\n",
    "mapping['Cat_Code']=category_dframe#creating new column and assigning category index values to it\n",
    "#print(mapping.head(20))\n",
    "mapping['main_sector']=mapping.Cat_Code.apply(lambda x: col_nms[int(x)+1])#creating another column to actually represnt the category of each row\n",
    "\n"
   ]
  },
  {
   "cell_type": "code",
   "execution_count": 48,
   "metadata": {},
   "outputs": [
    {
     "name": "stdout",
     "output_type": "stream",
     "text": [
      "(94544, 17)\n",
      "(94479, 18)\n"
     ]
    }
   ],
   "source": [
    "print(master_frame.shape)\n",
    "\n",
    "master_frame=master_frame.merge(mapping[['category_list','main_sector']], left_on='primary_sector', right_on='category_list', suffixes=('', '_y'), how='inner')#joining both master_frame and mapping\n",
    "#print(master_frame.shape)\n",
    "#print(master_frame.head())\n",
    "master_frame.drop(columns=['category_list_y'],inplace=True)#dropping category_list_y column as it has same data as primary_sector\n",
    "#after the merge, we have two additional columns in master_frame, one is primary_sector which we created from category_list before\n",
    "#another one is main_sector, which we got from mapping\n",
    "#print(master_frame.head())\n",
    "print(master_frame.shape)"
   ]
  },
  {
   "cell_type": "code",
   "execution_count": 49,
   "metadata": {},
   "outputs": [
    {
     "name": "stdout",
     "output_type": "stream",
     "text": [
      "Social, Finance, Analytics, Advertising    21718\n",
      "Others                                     21389\n",
      "Cleantech / Semiconductors                 15166\n",
      "News, Search and Messaging                 13476\n",
      "Health                                      7119\n",
      "Entertainment                               6631\n",
      "Manufacturing                               6038\n",
      "Automotive & Sports                         1922\n",
      "Blanks                                      1020\n",
      "Name: main_sector, dtype: int64\n",
      "94479\n",
      "93459\n"
     ]
    },
    {
     "data": {
      "text/html": [
       "<div>\n",
       "<style scoped>\n",
       "    .dataframe tbody tr th:only-of-type {\n",
       "        vertical-align: middle;\n",
       "    }\n",
       "\n",
       "    .dataframe tbody tr th {\n",
       "        vertical-align: top;\n",
       "    }\n",
       "\n",
       "    .dataframe thead th {\n",
       "        text-align: right;\n",
       "    }\n",
       "</style>\n",
       "<table border=\"1\" class=\"dataframe\">\n",
       "  <thead>\n",
       "    <tr style=\"text-align: right;\">\n",
       "      <th></th>\n",
       "      <th>company_permalink</th>\n",
       "      <th>funding_round_permalink</th>\n",
       "      <th>funding_round_type</th>\n",
       "      <th>funding_round_code</th>\n",
       "      <th>funded_at</th>\n",
       "      <th>raised_amount_usd</th>\n",
       "      <th>permalink</th>\n",
       "      <th>name</th>\n",
       "      <th>homepage_url</th>\n",
       "      <th>category_list</th>\n",
       "      <th>status</th>\n",
       "      <th>country_code</th>\n",
       "      <th>state_code</th>\n",
       "      <th>region</th>\n",
       "      <th>city</th>\n",
       "      <th>founded_at</th>\n",
       "      <th>primary_sector</th>\n",
       "      <th>main_sector</th>\n",
       "    </tr>\n",
       "  </thead>\n",
       "  <tbody>\n",
       "    <tr>\n",
       "      <th>0</th>\n",
       "      <td>/organization/-fame</td>\n",
       "      <td>/funding-round/9a01d05418af9f794eebff7ace91f638</td>\n",
       "      <td>venture</td>\n",
       "      <td>B</td>\n",
       "      <td>05-01-2015</td>\n",
       "      <td>10000000.0</td>\n",
       "      <td>/organization/-fame</td>\n",
       "      <td>#fame</td>\n",
       "      <td>http://livfame.com</td>\n",
       "      <td>Media</td>\n",
       "      <td>operating</td>\n",
       "      <td>IND</td>\n",
       "      <td>16</td>\n",
       "      <td>Mumbai</td>\n",
       "      <td>Mumbai</td>\n",
       "      <td>NaN</td>\n",
       "      <td>media</td>\n",
       "      <td>Entertainment</td>\n",
       "    </tr>\n",
       "    <tr>\n",
       "      <th>1</th>\n",
       "      <td>/organization/90min</td>\n",
       "      <td>/funding-round/21a2cbf6f2fb2a1c2a61e04bf930dfe6</td>\n",
       "      <td>venture</td>\n",
       "      <td>NaN</td>\n",
       "      <td>06-10-2015</td>\n",
       "      <td>15000000.0</td>\n",
       "      <td>/organization/90min</td>\n",
       "      <td>90min</td>\n",
       "      <td>http://www.90min.com</td>\n",
       "      <td>Media|News|Publishing|Soccer|Sports</td>\n",
       "      <td>operating</td>\n",
       "      <td>GBR</td>\n",
       "      <td>H9</td>\n",
       "      <td>London</td>\n",
       "      <td>London</td>\n",
       "      <td>01-01-2011</td>\n",
       "      <td>media</td>\n",
       "      <td>Entertainment</td>\n",
       "    </tr>\n",
       "    <tr>\n",
       "      <th>2</th>\n",
       "      <td>/organization/90min</td>\n",
       "      <td>/funding-round/bd626ed022f5c66574b1afe234f3c90d</td>\n",
       "      <td>venture</td>\n",
       "      <td>NaN</td>\n",
       "      <td>07-05-2013</td>\n",
       "      <td>5800000.0</td>\n",
       "      <td>/organization/90min</td>\n",
       "      <td>90min</td>\n",
       "      <td>http://www.90min.com</td>\n",
       "      <td>Media|News|Publishing|Soccer|Sports</td>\n",
       "      <td>operating</td>\n",
       "      <td>GBR</td>\n",
       "      <td>H9</td>\n",
       "      <td>London</td>\n",
       "      <td>London</td>\n",
       "      <td>01-01-2011</td>\n",
       "      <td>media</td>\n",
       "      <td>Entertainment</td>\n",
       "    </tr>\n",
       "    <tr>\n",
       "      <th>3</th>\n",
       "      <td>/organization/90min</td>\n",
       "      <td>/funding-round/fd4b15e8c97ee2ffc0acccdbe1a98810</td>\n",
       "      <td>venture</td>\n",
       "      <td>NaN</td>\n",
       "      <td>26-03-2014</td>\n",
       "      <td>18000000.0</td>\n",
       "      <td>/organization/90min</td>\n",
       "      <td>90min</td>\n",
       "      <td>http://www.90min.com</td>\n",
       "      <td>Media|News|Publishing|Soccer|Sports</td>\n",
       "      <td>operating</td>\n",
       "      <td>GBR</td>\n",
       "      <td>H9</td>\n",
       "      <td>London</td>\n",
       "      <td>London</td>\n",
       "      <td>01-01-2011</td>\n",
       "      <td>media</td>\n",
       "      <td>Entertainment</td>\n",
       "    </tr>\n",
       "    <tr>\n",
       "      <th>4</th>\n",
       "      <td>/organization/a-dance-for-me</td>\n",
       "      <td>/funding-round/9ab9dbd17bf010c79d8415b2c22be6fa</td>\n",
       "      <td>equity_crowdfunding</td>\n",
       "      <td>NaN</td>\n",
       "      <td>26-03-2014</td>\n",
       "      <td>1090000.0</td>\n",
       "      <td>/organization/a-dance-for-me</td>\n",
       "      <td>A Dance for Me</td>\n",
       "      <td>http://www.adanceforme.com/</td>\n",
       "      <td>Media|News|Photo Sharing|Video</td>\n",
       "      <td>operating</td>\n",
       "      <td>USA</td>\n",
       "      <td>MT</td>\n",
       "      <td>Missoula</td>\n",
       "      <td>Missoula</td>\n",
       "      <td>31-07-2011</td>\n",
       "      <td>media</td>\n",
       "      <td>Entertainment</td>\n",
       "    </tr>\n",
       "  </tbody>\n",
       "</table>\n",
       "</div>"
      ],
      "text/plain": [
       "              company_permalink  \\\n",
       "0           /organization/-fame   \n",
       "1           /organization/90min   \n",
       "2           /organization/90min   \n",
       "3           /organization/90min   \n",
       "4  /organization/a-dance-for-me   \n",
       "\n",
       "                           funding_round_permalink   funding_round_type  \\\n",
       "0  /funding-round/9a01d05418af9f794eebff7ace91f638              venture   \n",
       "1  /funding-round/21a2cbf6f2fb2a1c2a61e04bf930dfe6              venture   \n",
       "2  /funding-round/bd626ed022f5c66574b1afe234f3c90d              venture   \n",
       "3  /funding-round/fd4b15e8c97ee2ffc0acccdbe1a98810              venture   \n",
       "4  /funding-round/9ab9dbd17bf010c79d8415b2c22be6fa  equity_crowdfunding   \n",
       "\n",
       "  funding_round_code   funded_at  raised_amount_usd  \\\n",
       "0                  B  05-01-2015         10000000.0   \n",
       "1                NaN  06-10-2015         15000000.0   \n",
       "2                NaN  07-05-2013          5800000.0   \n",
       "3                NaN  26-03-2014         18000000.0   \n",
       "4                NaN  26-03-2014          1090000.0   \n",
       "\n",
       "                      permalink            name                 homepage_url  \\\n",
       "0           /organization/-fame           #fame           http://livfame.com   \n",
       "1           /organization/90min           90min         http://www.90min.com   \n",
       "2           /organization/90min           90min         http://www.90min.com   \n",
       "3           /organization/90min           90min         http://www.90min.com   \n",
       "4  /organization/a-dance-for-me  A Dance for Me  http://www.adanceforme.com/   \n",
       "\n",
       "                         category_list     status country_code state_code  \\\n",
       "0                                Media  operating          IND         16   \n",
       "1  Media|News|Publishing|Soccer|Sports  operating          GBR         H9   \n",
       "2  Media|News|Publishing|Soccer|Sports  operating          GBR         H9   \n",
       "3  Media|News|Publishing|Soccer|Sports  operating          GBR         H9   \n",
       "4       Media|News|Photo Sharing|Video  operating          USA         MT   \n",
       "\n",
       "     region      city  founded_at primary_sector    main_sector  \n",
       "0    Mumbai    Mumbai         NaN          media  Entertainment  \n",
       "1    London    London  01-01-2011          media  Entertainment  \n",
       "2    London    London  01-01-2011          media  Entertainment  \n",
       "3    London    London  01-01-2011          media  Entertainment  \n",
       "4  Missoula  Missoula  31-07-2011          media  Entertainment  "
      ]
     },
     "execution_count": 49,
     "metadata": {},
     "output_type": "execute_result"
    }
   ],
   "source": [
    "#master_frame.head(20)\n",
    "#master_frame.shape\n",
    "print(master_frame.main_sector.value_counts())#we can see that there are 1020 rows that are not belonging to any sector\n",
    "#these are denoted by 'Blanks' which is not a sector\n",
    "#this is because, category_list is NUll in the master frame for these rows\n",
    "#lets drop them before proceeding to next step as these have the potential of messing up sector rankings\n",
    "print(master_frame.main_sector.count())#count before removing blanks\n",
    "master_frame=master_frame.loc[master_frame.main_sector!='Blanks']\n",
    "print(master_frame.main_sector.count())#count after removing blanks, exactly 1020 rows less\n",
    "#mapping.main_sector.value_counts()\n",
    "#master_frame.loc[master_frame.category_list.isnull()]\n",
    "#master_frame.dtypes\n",
    "master_frame.head()#merged master dataframe"
   ]
  },
  {
   "cell_type": "markdown",
   "metadata": {},
   "source": [
    "# ------------------End of Checkpoint 4: Sector Analysis 1-----------------------"
   ]
  },
  {
   "cell_type": "markdown",
   "metadata": {},
   "source": [
    "# ------------------Checkpoint 5: Sector Analysis 2-----------------------"
   ]
  },
  {
   "cell_type": "code",
   "execution_count": 50,
   "metadata": {},
   "outputs": [
    {
     "data": {
      "text/plain": [
       "(12063, 18)"
      ]
     },
     "execution_count": 50,
     "metadata": {},
     "output_type": "execute_result"
    }
   ],
   "source": [
    "#D1 is a subset of master_frame with country=USA(english speaking country 1), fund type=venture and fund amount lying between 5-15 million(both inclusive)\n",
    "D1=master_frame.loc[(master_frame.country_code=='USA')&(master_frame.funding_round_type=='venture')&(master_frame.raised_amount_usd<=15000000)&(master_frame.raised_amount_usd>=5000000)]\n",
    "#print(D1.head())\n",
    "D1.shape"
   ]
  },
  {
   "cell_type": "code",
   "execution_count": 51,
   "metadata": {},
   "outputs": [
    {
     "data": {
      "text/plain": [
       "(621, 18)"
      ]
     },
     "execution_count": 51,
     "metadata": {},
     "output_type": "execute_result"
    }
   ],
   "source": [
    "#D2 is a subset of master_frame with country=GBR(english speaking country 2), fund type=venture and fund amount lying between 5-15 million(both inclusive)\n",
    "D2=master_frame.loc[(master_frame.country_code=='GBR')&(master_frame.funding_round_type=='venture')&(master_frame.raised_amount_usd<=15000000)&(master_frame.raised_amount_usd>=5000000)]\n",
    "#print(D2.head())\n",
    "D2.shape"
   ]
  },
  {
   "cell_type": "code",
   "execution_count": 52,
   "metadata": {},
   "outputs": [
    {
     "data": {
      "text/plain": [
       "(328, 18)"
      ]
     },
     "execution_count": 52,
     "metadata": {},
     "output_type": "execute_result"
    }
   ],
   "source": [
    "#D3 is a subset of master_frame with country=IND(english speaking country 3), fund type=venture and fund amount lying between 5-15 million(both inclusive)\n",
    "D3=master_frame.loc[(master_frame.country_code=='IND')&(master_frame.funding_round_type=='venture')&(master_frame.raised_amount_usd<=15000000)&(master_frame.raised_amount_usd>=5000000)]\n",
    "#print(D3.head())\n",
    "D3.shape"
   ]
  },
  {
   "cell_type": "code",
   "execution_count": 53,
   "metadata": {},
   "outputs": [
    {
     "name": "stdout",
     "output_type": "stream",
     "text": [
      "Total number of investments are 12063\n",
      "Total amount of investment is $107757097294.0\n",
      "Top Sector name (no. of investment-wise): Others\n",
      "Second Sector name (no. of investment-wise): Social, Finance, Analytics, Advertising\n",
      "Third Sector name (no. of investment-wise): Cleantech / Semiconductors\n",
      "Number of investments in top sector (3): 2950\n",
      "Number of investments in second sector (4): 2714\n",
      "Number of investments in third sector (5): 2350\n",
      "For point 3 (top sector count-wise), which company received the highest investment?  virtustream\n",
      "For point 4 (second best sector count-wise), which company received the highest investment?  capella\n"
     ]
    }
   ],
   "source": [
    "import numpy as np\n",
    "#Country 1 analysis\n",
    "print(\"Total number of investments are\",D1.shape[0])#rows represent number of investments\n",
    "print(\"Total amount of investment is $\"+str(D1.raised_amount_usd.sum()))\n",
    "print(\"Top Sector name (no. of investment-wise):\",D1.main_sector.value_counts().index.tolist()[0])\n",
    "print(\"Second Sector name (no. of investment-wise):\",D1.main_sector.value_counts().index.tolist()[1])\n",
    "print(\"Third Sector name (no. of investment-wise):\",D1.main_sector.value_counts().index.tolist()[2])\n",
    "print(\"Number of investments in top sector (3):\",D1.main_sector.value_counts()[0])\n",
    "print(\"Number of investments in second sector (4):\",D1.main_sector.value_counts()[1])\n",
    "print(\"Number of investments in third sector (5):\",D1.main_sector.value_counts()[2])\n",
    "\n",
    "t1=D1.loc[D1.main_sector==D1.main_sector.value_counts().index.tolist()[0]]#t1 contains subset of D1 with only top sector rows\n",
    "pt1=t1.pivot_table(values='raised_amount_usd', index='company_permalink', aggfunc=np.sum)#pt1 contains sum of investments in each company that is in t1\n",
    "pt1.sort_values(by='raised_amount_usd',ascending=False, inplace=True)#sorting by total investment\n",
    "\n",
    "print(\"For point 3 (top sector count-wise), which company received the highest investment? \",pt1.index.tolist()[0][14:])#company with highest overall investment\n",
    "print(\"For point 4 (second best sector count-wise), which company received the highest investment? \",pt1.index.tolist()[1][14:])#company with 2nd highest overall investment"
   ]
  },
  {
   "cell_type": "code",
   "execution_count": 54,
   "metadata": {},
   "outputs": [
    {
     "name": "stdout",
     "output_type": "stream",
     "text": [
      "Total number of investments are 621\n",
      "Total amount of investment is $5379078691.0\n",
      "Top Sector name (no. of investment-wise): Others\n",
      "Second Sector name (no. of investment-wise): Social, Finance, Analytics, Advertising\n",
      "Third Sector name (no. of investment-wise): Cleantech / Semiconductors\n",
      "Number of investments in top sector (3): 147\n",
      "Number of investments in second sector (4): 133\n",
      "Number of investments in third sector (5): 130\n",
      "For point 3 (top sector count-wise), which company received the highest investment?  electric-cloud\n",
      "For point 4 (second best sector count-wise), which company received the highest investment?  sensage\n"
     ]
    }
   ],
   "source": [
    "import numpy as np\n",
    "#Country 2 analysis\n",
    "print(\"Total number of investments are\",D2.shape[0])#rows represent number of investments\n",
    "print(\"Total amount of investment is $\"+str(D2.raised_amount_usd.sum()))\n",
    "print(\"Top Sector name (no. of investment-wise):\",D2.main_sector.value_counts().index.tolist()[0])\n",
    "print(\"Second Sector name (no. of investment-wise):\",D2.main_sector.value_counts().index.tolist()[1])\n",
    "print(\"Third Sector name (no. of investment-wise):\",D2.main_sector.value_counts().index.tolist()[2])\n",
    "print(\"Number of investments in top sector (3):\",D2.main_sector.value_counts()[0])\n",
    "print(\"Number of investments in second sector (4):\",D2.main_sector.value_counts()[1])\n",
    "print(\"Number of investments in third sector (5):\",D2.main_sector.value_counts()[2])\n",
    "\n",
    "t2=D2.loc[D2.main_sector==D2.main_sector.value_counts().index.tolist()[0]]#t2 contains subset of D2 with only top sector rows\n",
    "pt2=t2.pivot_table(values='raised_amount_usd', index='company_permalink', aggfunc=np.sum)#pt2 contains sum of investments in each company that is in t2\n",
    "pt2.sort_values(by='raised_amount_usd',ascending=False, inplace=True)#sorting by total investment\n",
    "\n",
    "print(\"For point 3 (top sector count-wise), which company received the highest investment? \",pt2.index.tolist()[0][14:])#company with highest overall investment\n",
    "print(\"For point 4 (second best sector count-wise), which company received the highest investment? \",pt2.index.tolist()[1][14:])#company with 2nd highest overall investment"
   ]
  },
  {
   "cell_type": "code",
   "execution_count": 55,
   "metadata": {},
   "outputs": [
    {
     "name": "stdout",
     "output_type": "stream",
     "text": [
      "Total number of investments are 328\n",
      "Total amount of investment is $2949543602.0\n",
      "Top Sector name (no. of investment-wise): Others\n",
      "Second Sector name (no. of investment-wise): Social, Finance, Analytics, Advertising\n",
      "Third Sector name (no. of investment-wise): News, Search and Messaging\n",
      "Number of investments in top sector (3): 110\n",
      "Number of investments in second sector (4): 60\n",
      "Number of investments in third sector (5): 52\n",
      "For point 3 (top sector count-wise), which company received the highest investment?  firstcry-com\n",
      "For point 4 (second best sector count-wise), which company received the highest investment?  myntra\n"
     ]
    }
   ],
   "source": [
    "import numpy as np\n",
    "#Country 3 analysis\n",
    "print(\"Total number of investments are\",D3.shape[0])#rows represent number of investments\n",
    "print(\"Total amount of investment is $\"+str(D3.raised_amount_usd.sum()))\n",
    "print(\"Top Sector name (no. of investment-wise):\",D3.main_sector.value_counts().index.tolist()[0])\n",
    "print(\"Second Sector name (no. of investment-wise):\",D3.main_sector.value_counts().index.tolist()[1])\n",
    "print(\"Third Sector name (no. of investment-wise):\",D3.main_sector.value_counts().index.tolist()[2])\n",
    "print(\"Number of investments in top sector (3):\",D3.main_sector.value_counts()[0])\n",
    "print(\"Number of investments in second sector (4):\",D3.main_sector.value_counts()[1])\n",
    "print(\"Number of investments in third sector (5):\",D3.main_sector.value_counts()[2])\n",
    "\n",
    "t3=D3.loc[D3.main_sector==D3.main_sector.value_counts().index.tolist()[0]]#t3 contains subset of D3 with only top sector rows\n",
    "pt3=t3.pivot_table(values='raised_amount_usd', index='company_permalink', aggfunc=np.sum)#pt3 contains sum of investments in each company that is in t3\n",
    "pt3.sort_values(by='raised_amount_usd',ascending=False, inplace=True)#sorting by total investment\n",
    "\n",
    "print(\"For point 3 (top sector count-wise), which company received the highest investment? \",pt3.index.tolist()[0][14:])#company with highest overall investment\n",
    "print(\"For point 4 (second best sector count-wise), which company received the highest investment? \",pt3.index.tolist()[1][14:])#company with 2nd highest overall investment"
   ]
  },
  {
   "cell_type": "markdown",
   "metadata": {},
   "source": [
    "# ------------------End of Checkpoint 5: Sector Analysis 2-----------------------"
   ]
  },
  {
   "cell_type": "markdown",
   "metadata": {},
   "source": [
    "# ------------------Checkpoint 6: Plots-----------------------"
   ]
  },
  {
   "cell_type": "markdown",
   "metadata": {},
   "source": [
    "##### 1. Representative amount plot"
   ]
  },
  {
   "cell_type": "code",
   "execution_count": 56,
   "metadata": {},
   "outputs": [
    {
     "data": {
      "text/html": [
       "<div>\n",
       "<style scoped>\n",
       "    .dataframe tbody tr th:only-of-type {\n",
       "        vertical-align: middle;\n",
       "    }\n",
       "\n",
       "    .dataframe tbody tr th {\n",
       "        vertical-align: top;\n",
       "    }\n",
       "\n",
       "    .dataframe thead th {\n",
       "        text-align: right;\n",
       "    }\n",
       "</style>\n",
       "<table border=\"1\" class=\"dataframe\">\n",
       "  <thead>\n",
       "    <tr style=\"text-align: right;\">\n",
       "      <th></th>\n",
       "      <th>venture_rep</th>\n",
       "      <th>angel_rep</th>\n",
       "      <th>seed_rep</th>\n",
       "      <th>private_equity_rep</th>\n",
       "    </tr>\n",
       "  </thead>\n",
       "  <tbody>\n",
       "    <tr>\n",
       "      <th>0</th>\n",
       "      <td>5000000.0</td>\n",
       "      <td>400000.0</td>\n",
       "      <td>280000.0</td>\n",
       "      <td>20000000.0</td>\n",
       "    </tr>\n",
       "  </tbody>\n",
       "</table>\n",
       "</div>"
      ],
      "text/plain": [
       "   venture_rep  angel_rep  seed_rep  private_equity_rep\n",
       "0    5000000.0   400000.0  280000.0          20000000.0"
      ]
     },
     "execution_count": 56,
     "metadata": {},
     "output_type": "execute_result"
    }
   ],
   "source": [
    "#Creating a dataframe with representative values that we gathered before for all 4 fund types that spark funds is interested in\n",
    "meds={'venture_rep':venture_rep, 'angel_rep':angel_rep, 'seed_rep':seed_rep, 'private_equity_rep':private_equity_rep}\n",
    "meds=pd.DataFrame(meds, index=[0])\n",
    "meds"
   ]
  },
  {
   "cell_type": "code",
   "execution_count": 57,
   "metadata": {},
   "outputs": [
    {
     "data": {
      "image/png": "[encoded data removed]",
      "text/plain": [
       "<Figure size 504x576 with 1 Axes>"
      ]
     },
     "metadata": {},
     "output_type": "display_data"
    }
   ],
   "source": [
    "#showing the representative values of each fund type against each other on a bar plot\n",
    "import matplotlib.pyplot as plt\n",
    "import seaborn as sns\n",
    "plt.figure(figsize=(7,8))\n",
    "sns.set_style(style=\"darkgrid\")\n",
    "#sns.set(xlabel='common xlabel', ylabel='common ylabel')\n",
    "rep_plot=sns.barplot(data=meds)\n",
    "\n",
    "rep_plot.set_xlabel(\"Fund Type\",fontsize=14)\n",
    "rep_plot.set_ylabel(\"Representative value in 10 Mil USD\",fontsize=14)\n",
    "plt.xticks(fontsize=14,rotation=0)\n",
    "plt.show()"
   ]
  },
  {
   "cell_type": "markdown",
   "metadata": {},
   "source": [
    "##### 2. Top 9 countries against the total amount of investments"
   ]
  },
  {
   "cell_type": "code",
   "execution_count": 58,
   "metadata": {},
   "outputs": [
    {
     "data": {
      "image/png": "[encoded data removed]",
      "text/plain": [
       "<Figure size 864x576 with 1 Axes>"
      ]
     },
     "metadata": {},
     "output_type": "display_data"
    }
   ],
   "source": [
    "t9_plot=top9.plot.bar(figsize=(12, 8))\n",
    "\n",
    "eng_countries=['USA','GBR','IND']#created a limited list of top 3 english speaking countries to highlight them\n",
    "\n",
    "#for each element of t9_plot.patches, check if its index number is same as the location where top 3 english speaking countries exist in main datafrane\n",
    "#if exists, then color ir green, else color it white with black edge\n",
    "for ctr_inx in range(len(top9)):\n",
    "    if top9.index.tolist()[ctr_inx] not in eng_countries:\n",
    "        t9_plot.patches[ctr_inx].set_facecolor('w')\n",
    "        t9_plot.patches[ctr_inx].set_edgecolor('black')\n",
    "    else:\n",
    "        t9_plot.patches[ctr_inx].set_facecolor('g')\n",
    "\n",
    "\n",
    "import matplotlib.patches as mpatches\n",
    "\n",
    "top3 = mpatches.Patch(color='green', label='Top 3 english speaking countries')\n",
    "rem = mpatches.Patch(color='white', label='Remaining countries')\n",
    "plt.legend(handles=[top3, rem])#using defined mpatches as input handles to legend\n",
    "plt.title(\"Top 9 countries ranked by total investments in venture type funding\", fontsize=14)\n",
    "plt.ylabel(\"Total amount of investments\", fontsize=14)\n",
    "plt.xlabel(\"Countries\", fontsize=14)\n",
    "plt.xticks(fontsize=14,rotation=0)\n",
    "plt.show()"
   ]
  },
  {
   "cell_type": "markdown",
   "metadata": {},
   "source": [
    "##### 3.  Number of investments in the top 3 sectors of the top 3 countries"
   ]
  },
  {
   "cell_type": "code",
   "execution_count": 59,
   "metadata": {},
   "outputs": [
    {
     "data": {
      "text/html": [
       "<div>\n",
       "<style scoped>\n",
       "    .dataframe tbody tr th:only-of-type {\n",
       "        vertical-align: middle;\n",
       "    }\n",
       "\n",
       "    .dataframe tbody tr th {\n",
       "        vertical-align: top;\n",
       "    }\n",
       "\n",
       "    .dataframe thead th {\n",
       "        text-align: right;\n",
       "    }\n",
       "</style>\n",
       "<table border=\"1\" class=\"dataframe\">\n",
       "  <thead>\n",
       "    <tr style=\"text-align: right;\">\n",
       "      <th></th>\n",
       "      <th>sector1</th>\n",
       "      <th>sector2</th>\n",
       "      <th>sector3</th>\n",
       "    </tr>\n",
       "    <tr>\n",
       "      <th>Country</th>\n",
       "      <th></th>\n",
       "      <th></th>\n",
       "      <th></th>\n",
       "    </tr>\n",
       "  </thead>\n",
       "  <tbody>\n",
       "    <tr>\n",
       "      <th>USA</th>\n",
       "      <td>2950</td>\n",
       "      <td>2714</td>\n",
       "      <td>2350</td>\n",
       "    </tr>\n",
       "    <tr>\n",
       "      <th>GBR</th>\n",
       "      <td>147</td>\n",
       "      <td>133</td>\n",
       "      <td>130</td>\n",
       "    </tr>\n",
       "    <tr>\n",
       "      <th>IND</th>\n",
       "      <td>110</td>\n",
       "      <td>60</td>\n",
       "      <td>52</td>\n",
       "    </tr>\n",
       "  </tbody>\n",
       "</table>\n",
       "</div>"
      ],
      "text/plain": [
       "         sector1  sector2  sector3\n",
       "Country                           \n",
       "USA         2950     2714     2350\n",
       "GBR          147      133      130\n",
       "IND          110       60       52"
      ]
     },
     "execution_count": 59,
     "metadata": {},
     "output_type": "execute_result"
    }
   ],
   "source": [
    "cs = [[D1.main_sector.value_counts()[x] for x in range(3)],[D2.main_sector.value_counts()[x] for x in range(3)],[D3.main_sector.value_counts()[x] for x in range(3)]]#list of top3 sectors investment count of top3 countries\n",
    "cs = pd.DataFrame(cs)\n",
    "top3X3 = pd.DataFrame(\n",
    "    {'Country': eng_countries,#this eng_countries list was prepared in previous cell\n",
    "     'sector1': cs.iloc[:,0],#1st column\n",
    "     'sector2': cs.iloc[:,1],#2nd column\n",
    "     'sector3': cs.iloc[:,2]#3rd column\n",
    "    })\n",
    "top3X3.set_index('Country',inplace=True)\n",
    "top3X3#the dataframe displays sector-wise investment count for top3 countries which are used as indexes"
   ]
  },
  {
   "cell_type": "code",
   "execution_count": 60,
   "metadata": {},
   "outputs": [
    {
     "data": {
      "image/png": "[encoded data removed]",
      "text/plain": [
       "<Figure size 720x720 with 1 Axes>"
      ]
     },
     "metadata": {},
     "output_type": "display_data"
    },
    {
     "data": {
      "image/png": "[encoded data removed]",
      "text/plain": [
       "<Figure size 720x576 with 1 Axes>"
      ]
     },
     "metadata": {},
     "output_type": "display_data"
    }
   ],
   "source": [
    "top3X3.plot(kind=\"bar\", stacked=True,figsize=[10,10])#stacking sectors for each country to show sectorwise investment count comparsion\n",
    "plt.title(\"Top 3 sectors by investment count in top 3 english speaking countries\", fontsize=14)\n",
    "plt.ylabel(\"Count of investments\", fontsize=14)\n",
    "plt.xlabel(\"Countries\",fontsize=14)\n",
    "plt.xticks(fontsize=14,rotation=0)\n",
    "plt.show()\n",
    "\n",
    "##Plotting the stacked bar chart again wrt to the proportions.\n",
    "sector_perc=top3X3.apply(lambda x: x/x.sum(), axis=1)\n",
    "#current column/sum of all column gives proportion\n",
    "sector_perc.plot(kind=\"bar\", stacked=True,figsize=[10,8])\n",
    "plt.title(\"Proportion of top 3 sectors by invesetment count in top 3 english speaking countries\", fontsize=14)\n",
    "plt.ylabel(\"Proportion\", fontsize=14)\n",
    "plt.xlabel(\"Countries\",fontsize=14)\n",
    "plt.xticks(fontsize=14,rotation=0)\n",
    "plt.show()"
   ]
  },
  {
   "cell_type": "markdown",
   "metadata": {},
   "source": [
    "# ------------------End of Checkpoint 6: Plots-----------------------"
   ]
  }
 ],
 "metadata": {
  "kernelspec": {
   "display_name": "Python 3",
   "language": "python",
   "name": "python3"
  },
  "language_info": {
   "codemirror_mode": {
    "name": "ipython",
    "version": 3
   },
   "file_extension": ".py",
   "mimetype": "text/x-python",
   "name": "python",
   "nbconvert_exporter": "python",
   "pygments_lexer": "ipython3",
   "version": "3.6.5"
  }
 },
 "nbformat": 4,
 "nbformat_minor": 2
}
